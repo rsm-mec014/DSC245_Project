{
 "cells": [
  {
   "cell_type": "code",
   "execution_count": 54,
   "metadata": {},
   "outputs": [],
   "source": [
    "import numpy as np\n",
    "import pandas as pd\n",
    "from matplotlib import pyplot as plt"
   ]
  },
  {
   "cell_type": "markdown",
   "metadata": {},
   "source": [
    "# Ad-tech"
   ]
  },
  {
   "cell_type": "code",
   "execution_count": 55,
   "metadata": {},
   "outputs": [
    {
     "data": {
      "text/html": [
       "<div>\n",
       "<style scoped>\n",
       "    .dataframe tbody tr th:only-of-type {\n",
       "        vertical-align: middle;\n",
       "    }\n",
       "\n",
       "    .dataframe tbody tr th {\n",
       "        vertical-align: top;\n",
       "    }\n",
       "\n",
       "    .dataframe thead th {\n",
       "        text-align: right;\n",
       "    }\n",
       "</style>\n",
       "<table border=\"1\" class=\"dataframe\">\n",
       "  <thead>\n",
       "    <tr style=\"text-align: right;\">\n",
       "      <th></th>\n",
       "      <th>auction_id</th>\n",
       "      <th>experiment</th>\n",
       "      <th>date</th>\n",
       "      <th>hour</th>\n",
       "      <th>device_make</th>\n",
       "      <th>platform_os</th>\n",
       "      <th>browser</th>\n",
       "      <th>yes</th>\n",
       "      <th>no</th>\n",
       "    </tr>\n",
       "  </thead>\n",
       "  <tbody>\n",
       "    <tr>\n",
       "      <th>0</th>\n",
       "      <td>0008ef63-77a7-448b-bd1e-075f42c55e39</td>\n",
       "      <td>exposed</td>\n",
       "      <td>2020-07-10</td>\n",
       "      <td>8</td>\n",
       "      <td>Generic Smartphone</td>\n",
       "      <td>6</td>\n",
       "      <td>Chrome Mobile</td>\n",
       "      <td>0</td>\n",
       "      <td>0</td>\n",
       "    </tr>\n",
       "    <tr>\n",
       "      <th>1</th>\n",
       "      <td>000eabc5-17ce-4137-8efe-44734d914446</td>\n",
       "      <td>exposed</td>\n",
       "      <td>2020-07-07</td>\n",
       "      <td>10</td>\n",
       "      <td>Generic Smartphone</td>\n",
       "      <td>6</td>\n",
       "      <td>Chrome Mobile</td>\n",
       "      <td>0</td>\n",
       "      <td>0</td>\n",
       "    </tr>\n",
       "    <tr>\n",
       "      <th>2</th>\n",
       "      <td>0016d14a-ae18-4a02-a204-6ba53b52f2ed</td>\n",
       "      <td>exposed</td>\n",
       "      <td>2020-07-05</td>\n",
       "      <td>2</td>\n",
       "      <td>E5823</td>\n",
       "      <td>6</td>\n",
       "      <td>Chrome Mobile WebView</td>\n",
       "      <td>0</td>\n",
       "      <td>1</td>\n",
       "    </tr>\n",
       "    <tr>\n",
       "      <th>3</th>\n",
       "      <td>00187412-2932-4542-a8ef-3633901c98d9</td>\n",
       "      <td>control</td>\n",
       "      <td>2020-07-03</td>\n",
       "      <td>15</td>\n",
       "      <td>Samsung SM-A705FN</td>\n",
       "      <td>6</td>\n",
       "      <td>Facebook</td>\n",
       "      <td>0</td>\n",
       "      <td>0</td>\n",
       "    </tr>\n",
       "    <tr>\n",
       "      <th>4</th>\n",
       "      <td>001a7785-d3fe-4e11-a344-c8735acacc2c</td>\n",
       "      <td>control</td>\n",
       "      <td>2020-07-03</td>\n",
       "      <td>15</td>\n",
       "      <td>Generic Smartphone</td>\n",
       "      <td>6</td>\n",
       "      <td>Chrome Mobile</td>\n",
       "      <td>0</td>\n",
       "      <td>0</td>\n",
       "    </tr>\n",
       "    <tr>\n",
       "      <th>...</th>\n",
       "      <td>...</td>\n",
       "      <td>...</td>\n",
       "      <td>...</td>\n",
       "      <td>...</td>\n",
       "      <td>...</td>\n",
       "      <td>...</td>\n",
       "      <td>...</td>\n",
       "      <td>...</td>\n",
       "      <td>...</td>\n",
       "    </tr>\n",
       "    <tr>\n",
       "      <th>8072</th>\n",
       "      <td>ffea24ec-cec1-43fb-b1d1-8f93828c2be2</td>\n",
       "      <td>exposed</td>\n",
       "      <td>2020-07-05</td>\n",
       "      <td>7</td>\n",
       "      <td>Generic Smartphone</td>\n",
       "      <td>6</td>\n",
       "      <td>Chrome Mobile</td>\n",
       "      <td>0</td>\n",
       "      <td>0</td>\n",
       "    </tr>\n",
       "    <tr>\n",
       "      <th>8073</th>\n",
       "      <td>ffea3210-2c3e-426f-a77d-0aa72e73b20f</td>\n",
       "      <td>control</td>\n",
       "      <td>2020-07-03</td>\n",
       "      <td>15</td>\n",
       "      <td>Generic Smartphone</td>\n",
       "      <td>6</td>\n",
       "      <td>Chrome Mobile</td>\n",
       "      <td>0</td>\n",
       "      <td>0</td>\n",
       "    </tr>\n",
       "    <tr>\n",
       "      <th>8074</th>\n",
       "      <td>ffeaa0f1-1d72-4ba9-afb4-314b3b00a7c7</td>\n",
       "      <td>control</td>\n",
       "      <td>2020-07-04</td>\n",
       "      <td>9</td>\n",
       "      <td>Generic Smartphone</td>\n",
       "      <td>6</td>\n",
       "      <td>Chrome Mobile</td>\n",
       "      <td>0</td>\n",
       "      <td>0</td>\n",
       "    </tr>\n",
       "    <tr>\n",
       "      <th>8075</th>\n",
       "      <td>ffeeed62-3f7c-4a6e-8ba7-95d303d40969</td>\n",
       "      <td>exposed</td>\n",
       "      <td>2020-07-05</td>\n",
       "      <td>15</td>\n",
       "      <td>Samsung SM-A515F</td>\n",
       "      <td>6</td>\n",
       "      <td>Samsung Internet</td>\n",
       "      <td>0</td>\n",
       "      <td>0</td>\n",
       "    </tr>\n",
       "    <tr>\n",
       "      <th>8076</th>\n",
       "      <td>fffbb9ff-568a-41a5-a0c3-6866592f80d8</td>\n",
       "      <td>control</td>\n",
       "      <td>2020-07-10</td>\n",
       "      <td>14</td>\n",
       "      <td>Samsung SM-G960F</td>\n",
       "      <td>6</td>\n",
       "      <td>Facebook</td>\n",
       "      <td>0</td>\n",
       "      <td>0</td>\n",
       "    </tr>\n",
       "  </tbody>\n",
       "</table>\n",
       "<p>8077 rows × 9 columns</p>\n",
       "</div>"
      ],
      "text/plain": [
       "                                auction_id experiment        date  hour  \\\n",
       "0     0008ef63-77a7-448b-bd1e-075f42c55e39    exposed  2020-07-10     8   \n",
       "1     000eabc5-17ce-4137-8efe-44734d914446    exposed  2020-07-07    10   \n",
       "2     0016d14a-ae18-4a02-a204-6ba53b52f2ed    exposed  2020-07-05     2   \n",
       "3     00187412-2932-4542-a8ef-3633901c98d9    control  2020-07-03    15   \n",
       "4     001a7785-d3fe-4e11-a344-c8735acacc2c    control  2020-07-03    15   \n",
       "...                                    ...        ...         ...   ...   \n",
       "8072  ffea24ec-cec1-43fb-b1d1-8f93828c2be2    exposed  2020-07-05     7   \n",
       "8073  ffea3210-2c3e-426f-a77d-0aa72e73b20f    control  2020-07-03    15   \n",
       "8074  ffeaa0f1-1d72-4ba9-afb4-314b3b00a7c7    control  2020-07-04     9   \n",
       "8075  ffeeed62-3f7c-4a6e-8ba7-95d303d40969    exposed  2020-07-05    15   \n",
       "8076  fffbb9ff-568a-41a5-a0c3-6866592f80d8    control  2020-07-10    14   \n",
       "\n",
       "             device_make  platform_os                browser  yes  no  \n",
       "0     Generic Smartphone            6          Chrome Mobile    0   0  \n",
       "1     Generic Smartphone            6          Chrome Mobile    0   0  \n",
       "2                  E5823            6  Chrome Mobile WebView    0   1  \n",
       "3      Samsung SM-A705FN            6               Facebook    0   0  \n",
       "4     Generic Smartphone            6          Chrome Mobile    0   0  \n",
       "...                  ...          ...                    ...  ...  ..  \n",
       "8072  Generic Smartphone            6          Chrome Mobile    0   0  \n",
       "8073  Generic Smartphone            6          Chrome Mobile    0   0  \n",
       "8074  Generic Smartphone            6          Chrome Mobile    0   0  \n",
       "8075    Samsung SM-A515F            6       Samsung Internet    0   0  \n",
       "8076    Samsung SM-G960F            6               Facebook    0   0  \n",
       "\n",
       "[8077 rows x 9 columns]"
      ]
     },
     "execution_count": 55,
     "metadata": {},
     "output_type": "execute_result"
    }
   ],
   "source": [
    "data = pd.read_csv('data_adtech\\AdSmartABdata - AdSmartABdata.csv')\n",
    "data"
   ]
  },
  {
   "cell_type": "markdown",
   "metadata": {},
   "source": [
    "## Generating pre-experiment AA data\n",
    "to be used as one CUPED covariate"
   ]
  },
  {
   "cell_type": "code",
   "execution_count": null,
   "metadata": {},
   "outputs": [
    {
     "data": {
      "text/html": [
       "<div>\n",
       "<style scoped>\n",
       "    .dataframe tbody tr th:only-of-type {\n",
       "        vertical-align: middle;\n",
       "    }\n",
       "\n",
       "    .dataframe tbody tr th {\n",
       "        vertical-align: top;\n",
       "    }\n",
       "\n",
       "    .dataframe thead th {\n",
       "        text-align: right;\n",
       "    }\n",
       "</style>\n",
       "<table border=\"1\" class=\"dataframe\">\n",
       "  <thead>\n",
       "    <tr style=\"text-align: right;\">\n",
       "      <th></th>\n",
       "      <th>auction_id</th>\n",
       "      <th>experiment</th>\n",
       "      <th>date</th>\n",
       "      <th>hour</th>\n",
       "      <th>device_make</th>\n",
       "      <th>platform_os</th>\n",
       "      <th>browser</th>\n",
       "      <th>yes</th>\n",
       "      <th>no</th>\n",
       "      <th>yes_aa</th>\n",
       "    </tr>\n",
       "  </thead>\n",
       "  <tbody>\n",
       "    <tr>\n",
       "      <th>0</th>\n",
       "      <td>0008ef63-77a7-448b-bd1e-075f42c55e39</td>\n",
       "      <td>exposed</td>\n",
       "      <td>2020-07-10</td>\n",
       "      <td>8</td>\n",
       "      <td>Generic Smartphone</td>\n",
       "      <td>6</td>\n",
       "      <td>Chrome Mobile</td>\n",
       "      <td>0</td>\n",
       "      <td>0</td>\n",
       "      <td>0</td>\n",
       "    </tr>\n",
       "    <tr>\n",
       "      <th>1</th>\n",
       "      <td>000eabc5-17ce-4137-8efe-44734d914446</td>\n",
       "      <td>exposed</td>\n",
       "      <td>2020-07-07</td>\n",
       "      <td>10</td>\n",
       "      <td>Generic Smartphone</td>\n",
       "      <td>6</td>\n",
       "      <td>Chrome Mobile</td>\n",
       "      <td>0</td>\n",
       "      <td>0</td>\n",
       "      <td>0</td>\n",
       "    </tr>\n",
       "    <tr>\n",
       "      <th>2</th>\n",
       "      <td>0016d14a-ae18-4a02-a204-6ba53b52f2ed</td>\n",
       "      <td>exposed</td>\n",
       "      <td>2020-07-05</td>\n",
       "      <td>2</td>\n",
       "      <td>E5823</td>\n",
       "      <td>6</td>\n",
       "      <td>Chrome Mobile WebView</td>\n",
       "      <td>0</td>\n",
       "      <td>1</td>\n",
       "      <td>0</td>\n",
       "    </tr>\n",
       "    <tr>\n",
       "      <th>3</th>\n",
       "      <td>00187412-2932-4542-a8ef-3633901c98d9</td>\n",
       "      <td>control</td>\n",
       "      <td>2020-07-03</td>\n",
       "      <td>15</td>\n",
       "      <td>Samsung SM-A705FN</td>\n",
       "      <td>6</td>\n",
       "      <td>Facebook</td>\n",
       "      <td>0</td>\n",
       "      <td>0</td>\n",
       "      <td>0</td>\n",
       "    </tr>\n",
       "    <tr>\n",
       "      <th>4</th>\n",
       "      <td>001a7785-d3fe-4e11-a344-c8735acacc2c</td>\n",
       "      <td>control</td>\n",
       "      <td>2020-07-03</td>\n",
       "      <td>15</td>\n",
       "      <td>Generic Smartphone</td>\n",
       "      <td>6</td>\n",
       "      <td>Chrome Mobile</td>\n",
       "      <td>0</td>\n",
       "      <td>0</td>\n",
       "      <td>0</td>\n",
       "    </tr>\n",
       "  </tbody>\n",
       "</table>\n",
       "</div>"
      ],
      "text/plain": [
       "                             auction_id experiment        date  hour  \\\n",
       "0  0008ef63-77a7-448b-bd1e-075f42c55e39    exposed  2020-07-10     8   \n",
       "1  000eabc5-17ce-4137-8efe-44734d914446    exposed  2020-07-07    10   \n",
       "2  0016d14a-ae18-4a02-a204-6ba53b52f2ed    exposed  2020-07-05     2   \n",
       "3  00187412-2932-4542-a8ef-3633901c98d9    control  2020-07-03    15   \n",
       "4  001a7785-d3fe-4e11-a344-c8735acacc2c    control  2020-07-03    15   \n",
       "\n",
       "          device_make  platform_os                browser  yes  no  yes_aa  \n",
       "0  Generic Smartphone            6          Chrome Mobile    0   0       0  \n",
       "1  Generic Smartphone            6          Chrome Mobile    0   0       0  \n",
       "2               E5823            6  Chrome Mobile WebView    0   1       0  \n",
       "3   Samsung SM-A705FN            6               Facebook    0   0       0  \n",
       "4  Generic Smartphone            6          Chrome Mobile    0   0       0  "
      ]
     },
     "execution_count": 56,
     "metadata": {},
     "output_type": "execute_result"
    }
   ],
   "source": [
    "np.random.seed(42)\n",
    "\n",
    "mean_yes = data[\"yes\"].mean()\n",
    "var_yes = data[\"yes\"].var()\n",
    "\n",
    "desired_variance_reduction = 0.2  # (1 - 0.8)\n",
    "\n",
    "# Compute the target variance for the covariate\n",
    "target_variance = (1 - desired_variance_reduction) * var_yes\n",
    "\n",
    "# Generate the CUPED covariate 'yes_aa'\n",
    "yes_aa = (data[\"yes\"] - mean_yes) + np.random.normal(0, np.sqrt(target_variance), len(data))\n",
    "yes_aa = yes_aa.clip(0, 1).astype(int)  # Clip to ensure binary values\n",
    "\n",
    "data[\"yes_aa\"] = yes_aa\n",
    "\n",
    "data.head()"
   ]
  },
  {
   "cell_type": "code",
   "execution_count": 57,
   "metadata": {},
   "outputs": [
    {
     "data": {
      "text/plain": [
       "(-2.107278649715408, 0.035124460220699455)"
      ]
     },
     "execution_count": 57,
     "metadata": {},
     "output_type": "execute_result"
    }
   ],
   "source": [
    "from scipy import stats\n",
    "\n",
    "# Separate the data into control and experimental groups\n",
    "control_group = data[data['experiment']=='control']['yes']\n",
    "experimental_group = data[data['experiment']=='exposed']['yes']\n",
    "\n",
    "# Perform an independent t-test\n",
    "t_stat, p_value = stats.ttest_ind(control_group, experimental_group, equal_var=False)\n",
    "\n",
    "# Display the results\n",
    "t_stat, p_value"
   ]
  },
  {
   "cell_type": "code",
   "execution_count": 58,
   "metadata": {},
   "outputs": [
    {
     "name": "stdout",
     "output_type": "stream",
     "text": [
      "Conversion rate control:  0.06484893146647015\n",
      "Conversion rate treatment:  0.07688467299051423\n"
     ]
    }
   ],
   "source": [
    "p1 = control_group.sum() / data[data['experiment']=='control']['auction_id'].count()\n",
    "p2 = experimental_group.sum() / data[data['experiment']=='exposed']['auction_id'].count()\n",
    "print ('Conversion rate control: ', p1)\n",
    "print ('Conversion rate treatment: ', p2)"
   ]
  },
  {
   "cell_type": "code",
   "execution_count": 59,
   "metadata": {},
   "outputs": [
    {
     "name": "stdout",
     "output_type": "stream",
     "text": [
      "Overall conversion:  0.07081837315835088\n",
      "Overall var:  0.06580313118155544\n"
     ]
    }
   ],
   "source": [
    "p0 = data['yes'].mean()\n",
    "print('Overall conversion: ', p0)\n",
    "n = data['auction_id'].nunique()\n",
    "var0 = p0*(1-p0)\n",
    "print('Overall var: ', var0)"
   ]
  },
  {
   "cell_type": "markdown",
   "metadata": {},
   "source": [
    "### Calculating minimal sample size"
   ]
  },
  {
   "cell_type": "code",
   "execution_count": 60,
   "metadata": {},
   "outputs": [
    {
     "name": "stdout",
     "output_type": "stream",
     "text": [
      "Minimal sample size:  7122.73707263567\n"
     ]
    }
   ],
   "source": [
    "delta = p2-p1\n",
    "za = 1.96\n",
    "zb = 0.84\n",
    "min_size = 2*(za+zb)**2 * var0 / delta**2\n",
    "print('Minimal sample size: ', min_size)"
   ]
  },
  {
   "cell_type": "markdown",
   "metadata": {},
   "source": [
    "## CUPED\n",
    "Try to find covariate. We first try to find device_make as covariate"
   ]
  },
  {
   "cell_type": "code",
   "execution_count": 61,
   "metadata": {},
   "outputs": [
    {
     "name": "stdout",
     "output_type": "stream",
     "text": [
      "{'device_5099Y': -0.07083591222661575, 'device_6039Y': -0.07083591222661594, 'device_A0001': 0.42934108170522356, 'device_ALE-L21': -0.07083591222661595, 'device_ANE-LX1': 0.09607426812612772, 'device_ATU-L11': -0.07084468447580787, 'device_Armor_3': -0.07083591222661599, 'device_Asus I01WD': -0.07083591222661598, 'device_BBB100-2': -0.07083591222661592, 'device_BBF100-1': -0.07084468447580794, 'device_BKL-L09': -0.07085345889796255, 'device_BLA-L09': -0.07084468447580779, 'device_C2105': -0.07083591222661575, 'device_C6903': -0.07083591222661592, 'device_CLT-L09': -0.07105587220744632, 'device_CLT-L29': -0.07090615110834785, 'device_COL-L29': -0.07086223549388722, 'device_COR-L29': -0.07083591222661592, 'device_CPH1851': -0.07083591222661592, 'device_CUBOT_X18_Plus': -0.07083591222661575, 'device_D5503': -0.07083591222661587, 'device_D5803': -0.07083591222661594, 'device_D6503': -0.07083591222661592, 'device_D6603': -0.07084468447580779, 'device_DLI-L22': -0.07083591222661587, 'device_DUA-L22': -0.07084468447580772, 'device_DUB-LX1': -0.0708446844758079, 'device_Doro 8030': -0.07083591222661594, 'device_E5823': -0.07084468447580779, 'device_E6653': -0.07084468447580787, 'device_ELE-L09': 0.2628403421912589, 'device_ELE-L29': 0.0542420607678535, 'device_EML-L09': -0.07090615110834785, 'device_EML-L29': -0.07083591222661582, 'device_EVA-L09': 0.2626450186771218, 'device_EVR-N29': -0.07083591222661596, 'device_F3111': -0.0708446844758078, 'device_F3311': 0.42934108170522395, 'device_F5321': -0.07085345889796253, 'device_F8331': -0.07086223549388718, 'device_FIG-LX1': 0.040387733238812874, 'device_FRD-L09': -0.070835912226616, 'device_G3121': -0.07084468447580791, 'device_G3221': -0.0708359122266158, 'device_G3311': 0.12927765084521634, 'device_Generic Smartphone': -0.0076072004693189125, 'device_H3113': -0.07083591222661588, 'device_H3311': -0.07083591222661569, 'device_HTC 10': -0.0708622354938873, 'device_HTC Desire $2': 0.12927765084521634, 'device_HTC M10h': -0.07083591222661582, 'device_HTC One': -0.07083591222661594, 'device_HTC One $2': 0.1792926054519721, 'device_HTC U11': -0.07085345889796255, 'device_HTC U11 $2': -0.07083591222661598, 'device_HTC U12+': -0.070835912226616, 'device_HUAWEI $2': -0.07087101426438916, 'device_Huawei Browser': 0.2626450186771211, 'device_I3312': -0.015298801648502041, 'device_IMO $2': 0.9294117504558589, 'device_K7': -0.07083591222661585, 'device_LDN-L01': -0.07085345889796256, 'device_LG-$2': 0.1392423929326542, 'device_LYA-L09': -0.07097652942210302, 'device_LYA-L29': -0.07087101426438915, 'device_Lenovo A1010a20': -0.07084468447580773, 'device_Lenovo A7020a48': -0.07083591222661578, 'device_Lenovo P2a42': -0.07083591222661591, 'device_Lumia 950': -0.07083591222661595, 'device_MAR-LX1A': 0.02448640987883766, 'device_MHA-L09': -0.07083591222661594, 'device_MRD-LX1': 0.09600279315913968, 'device_Moto $2': -0.07099414583546154, 'device_Moto$2': -0.07083591222661582, 'device_NEM-L51': -0.07083591222661588, 'device_Nexus 5': -0.07084468447580784, 'device_Nokia undefined$2$3': 0.029403665366124165, 'device_Nokia$2$3': 0.007365896983848143, 'device_OnePlus ONE A2003': -0.07084468447580784, 'device_OnePlus ONE E1003': -0.07083591222661606, 'device_OnePlus ONEPLUS A3000': 0.9294117504558591, 'device_OnePlus ONEPLUS A3003': -0.0708797952102775, 'device_OnePlus ONEPLUS A5000': 0.05424206076785357, 'device_OnePlus ONEPLUS A5010': -0.004159946111871114, 'device_OnePlus ONEPLUS A6000': -0.07084468447580779, 'device_OnePlus ONEPLUS A6003': -0.07092373259882842, 'device_OnePlus ONEPLUS A6013': 0.0006113334617881174, 'device_PCT-L29': 0.4293410817052237, 'device_PLK-L01': -0.07083591222661602, 'device_POT-LX1': 0.004202959082322687, 'device_PRA-LX1': -0.07095012118840995, 'device_Pixel 2': 0.012535133272554956, 'device_Pixel 3': 0.11131675581607935, 'device_Pixel 3a': -0.004167700454070408, 'device_Pixel 4': -0.0709237325988284, 'device_Pixel XL': -0.0708446844758078, 'device_RNE-L21': -0.07083591222661588, 'device_S8': -0.07083591222661595, 'device_SNE-LX1': -0.07090615110834782, 'device_STF-L09': -0.07087101426438915, 'device_Samsung $2': 0.04934043563297201, 'device_Samsung GT-I8200N': -0.07083591222661595, 'device_Samsung GT-I9195': -0.07083591222661592, 'device_Samsung GT-I9195I': -0.070835912226616, 'device_Samsung GT-I9300': -0.07083591222661594, 'device_Samsung GT-I9505': -0.0709061511083478, 'device_Samsung GT-P5210': -0.07083591222661588, 'device_Samsung SM-A015M': -0.07083591222661578, 'device_Samsung SM-A105F': -0.07084468447580777, 'device_Samsung SM-A105FN': 0.035536981868460736, 'device_Samsung SM-A105G': -0.0708446844758078, 'device_Samsung SM-A107F': -0.07084468447580773, 'device_Samsung SM-A202F': 0.04329499716901582, 'device_Samsung SM-A205F': -0.07083591222661591, 'device_Samsung SM-A205G': -0.07083591222661587, 'device_Samsung SM-A207F': -0.07083591222661603, 'device_Samsung SM-A217F': -0.07083591222661584, 'device_Samsung SM-A300FU': -0.027421583120705816, 'device_Samsung SM-A305F': -0.07083591222661596, 'device_Samsung SM-A310F': 0.11116494769384064, 'device_Samsung SM-A320FL': 0.014962594313766368, 'device_Samsung SM-A405FN': -0.0018732628694271974, 'device_Samsung SM-A415F': -0.07083591222661592, 'device_Samsung SM-A500FU': -0.07088857833236041, 'device_Samsung SM-A505F': -0.07083591222661592, 'device_Samsung SM-A505FN': 0.04267444577683949, 'device_Samsung SM-A507FN': 0.4293410817052238, 'device_Samsung SM-A510F': -0.07084468447580783, 'device_Samsung SM-A515F': -0.07102058685811917, 'device_Samsung SM-A520F': -0.07127720248469331, 'device_Samsung SM-A530F': 0.10588816457491232, 'device_Samsung SM-A600FN': 0.044715701182724964, 'device_Samsung SM-A605F': -0.07083591222661582, 'device_Samsung SM-A605G': -0.07083591222661602, 'device_Samsung SM-A700F': -0.07083591222661599, 'device_Samsung SM-A705FN': 0.0006145345595809281, 'device_Samsung SM-A715F': 0.03453027740948189, 'device_Samsung SM-A750FN': 0.09600279315913973, 'device_Samsung SM-A750GN': -0.07083591222661594, 'device_Samsung SM-A805F': -0.07085345889796252, 'device_Samsung SM-A908B': -0.07083591222661582, 'device_Samsung SM-A920F': -0.07087979521027751, 'device_Samsung SM-C9000': -0.07083591222661594, 'device_Samsung SM-F907B': -0.070835912226616, 'device_Samsung SM-G361F': -0.07084468447580784, 'device_Samsung SM-G388F': -0.07083591222661575, 'device_Samsung SM-G390F': -0.07084468447580781, 'device_Samsung SM-G570F': -0.07083591222661585, 'device_Samsung SM-G6100': -0.07083591222661599, 'device_Samsung SM-G610F': -0.07083591222661577, 'device_Samsung SM-G770F': 0.000611333461788133, 'device_Samsung SM-G800F': -0.07084468447580772, 'device_Samsung SM-G850F': -0.07083591222661599, 'device_Samsung SM-G900F': 0.029257687134195843, 'device_Samsung SM-G900T': -0.0708359122266159, 'device_Samsung SM-G900V': -0.0708359122266158, 'device_Samsung SM-G901F': -0.07085345889796253, 'device_Samsung SM-G903F': -0.07084468447580784, 'device_Samsung SM-G920F': -0.008369139295450436, 'device_Samsung SM-G925F': -0.07089736363144743, 'device_Samsung SM-G925I': -0.07083591222661587, 'device_Samsung SM-G928F': -0.07086223549388708, 'device_Samsung SM-G930F': 0.03967772175986636, 'device_Samsung SM-G930L': -0.07083591222661575, 'device_Samsung SM-G930T': -0.0708359122266158, 'device_Samsung SM-G930U': -0.07083591222661575, 'device_Samsung SM-G930V': -0.0708359122266159, 'device_Samsung SM-G935F': 0.008614960543578522, 'device_Samsung SM-G935U': -0.07084468447580786, 'device_Samsung SM-G950F': 0.03799047591644475, 'device_Samsung SM-G950U': -0.07083591222661595, 'device_Samsung SM-G950U1': -0.07083591222661577, 'device_Samsung SM-G955F': 0.008168431986399565, 'device_Samsung SM-G955U': -0.07083591222661598, 'device_Samsung SM-G955U1': -0.07083591222661594, 'device_Samsung SM-G960F': 0.033475280426846526, 'device_Samsung SM-G960U': -0.07083591222661588, 'device_Samsung SM-G960U1': -0.07083591222661588, 'device_Samsung SM-G965F': 0.05081521695397511, 'device_Samsung SM-G965U1': -0.07083591222661598, 'device_Samsung SM-G970F': 0.06760644550301814, 'device_Samsung SM-G9730': -0.07083591222661585, 'device_Samsung SM-G973F': -0.005998405219764877, 'device_Samsung SM-G973U': -0.07083591222661592, 'device_Samsung SM-G975F': 0.02223487957215794, 'device_Samsung SM-G977B': 0.029221418772805083, 'device_Samsung SM-G980F': 0.012535133272554918, 'device_Samsung SM-G981B': 0.012572546927391634, 'device_Samsung SM-G986B': 0.012553812224407926, 'device_Samsung SM-G986U1': -0.07083591222661591, 'device_Samsung SM-G988B': -0.004159946111871207, 'device_Samsung SM-J250F': -0.07083591222661599, 'device_Samsung SM-J260F': -0.07085345889796255, 'device_Samsung SM-J320FN': 0.0061153023025005224, 'device_Samsung SM-J330F': -0.07084468447580794, 'device_Samsung SM-J330FN': -0.012959660950487235, 'device_Samsung SM-J330G': -0.07083591222661596, 'device_Samsung SM-J415FN': -0.018231934212989822, 'device_Samsung SM-J500FN': 0.1792926054519719, 'device_Samsung SM-J510FN': -0.07090615110834782, 'device_Samsung SM-J510GN': -0.07083591222661605, 'device_Samsung SM-J530F': 0.12321812923085551, 'device_Samsung SM-J600FN': -0.04323864380222783, 'device_Samsung SM-J610FN': 0.15159151109139016, 'device_Samsung SM-J610G': -0.0708359122266159, 'device_Samsung SM-J701F': -0.0708359122266158, 'device_Samsung SM-J710F': -0.07084468447580795, 'device_Samsung SM-J710MN': -0.07083591222661577, 'device_Samsung SM-J730F': 0.42934108170522406, 'device_Samsung SM-J810F': -0.07083591222661595, 'device_Samsung SM-N770F': -0.07084468447580791, 'device_Samsung SM-N910F': -0.07083591222661587, 'device_Samsung SM-N920I': -0.07083591222661592, 'device_Samsung SM-N9500': -0.07083591222661594, 'device_Samsung SM-N950F': -0.015298801648502001, 'device_Samsung SM-N960F': -0.03973068033221367, 'device_Samsung SM-N960U1': -0.07083591222661592, 'device_Samsung SM-N970F': 0.054242060767853484, 'device_Samsung SM-N9750': -0.07083591222661577, 'device_Samsung SM-N975F': -0.07090615110834775, 'device_Samsung SM-N976B': 0.003267025142900074, 'device_Samsung SM-N976V': -0.07083591222661594, 'device_Samsung undefined$2': -0.07084468447580783, 'device_Swift 2 Plus': -0.0708359122266158, 'device_TA-1020': -0.0708534588979625, 'device_TA-1024': -0.07083591222661594, 'device_TA-1033': 0.4293410817052238, 'device_VCE-L22': 0.9294117504558596, 'device_VF-795': -0.07083591222661578, 'device_VF-895N': -0.07083591222661605, 'device_VFD 500': -0.0708359122266159, 'device_VFD 610': -0.07084468447580779, 'device_VFD 700': 0.9294117504558589, 'device_VFD 710': -0.07083591222661584, 'device_VFD 720': -0.07084468447580793, 'device_VFD 820': -0.07086223549388704, 'device_VKY-L09': -0.07083591222661578, 'device_VOG-L09': -0.07102940490962883, 'device_VOG-L29': 0.09600279315913968, 'device_VTR-L09': -0.0709061511083478, 'device_Vodafone $2': -0.0708446844758079, 'device_WAS-LX1A': -0.07086223549388714, 'device_Wileyfox Swift': -0.07083591222661588, 'device_X13': -0.07083591222661582, 'device_X4_Soul_Infinity_Z': -0.07083591222661591, 'device_XT1032': -0.07084468447580781, 'device_XT1580': -0.07083591222661577, 'device_XiaoMi MI 6': -0.0708359122266159, 'device_XiaoMi MI 8': -0.07083591222661595, 'device_XiaoMi MI 8 Pro': 0.4293410817052235, 'device_XiaoMi MI MAX 3': 0.9294117504558588, 'device_XiaoMi Redmi 3S': -0.07083591222661602, 'device_XiaoMi Redmi 5 Plus': -0.07083591222661585, 'device_XiaoMi Redmi 6': -0.0708359122266158, 'device_XiaoMi Redmi 6A': -0.07085345889796252, 'device_XiaoMi Redmi 8': -0.07083591222661598, 'device_XiaoMi Redmi Note 4': -0.07085345889796253, 'device_XiaoMi Redmi Note 5': -0.07083591222661582, 'device_XiaoMi Redmi Note 6 Pro': -0.07083591222661578, 'device_XiaoMi Redmi Note 7': -0.07086223549388715, 'device_XiaoMi Redmi Note 8': -0.0708359122266159, 'device_XiaoMi Redmi Note 8 Pro': -0.07084468447580777, 'device_XiaoMi Redmi Note 8T': -0.07085345889796253, 'device_XiaoMi Redmi S2': 0.929411750455859, 'device_YAL-L21': 0.26264501867712087, 'device_iPhone': -0.06263623495353639, 'device_moto e5 play': -0.07086223549388722, 'device_moto e5 plus': -0.07083591222661578}\n"
     ]
    },
    {
     "data": {
      "text/plain": [
       "0       0.004874\n",
       "1       0.004874\n",
       "2       0.068112\n",
       "3      -0.003348\n",
       "4       0.004874\n",
       "          ...   \n",
       "8072    0.004874\n",
       "8073    0.004874\n",
       "8074    0.004874\n",
       "8075    0.068288\n",
       "8076   -0.036208\n",
       "Name: Y_adjusted, Length: 8077, dtype: float64"
      ]
     },
     "execution_count": 61,
     "metadata": {},
     "output_type": "execute_result"
    }
   ],
   "source": [
    "# One-hot encoding of browser categories\n",
    "browser_dummies = pd.get_dummies(data['device_make'], prefix='device', drop_first=True)\n",
    "data = pd.concat([data, browser_dummies], axis=1)\n",
    "\n",
    "# Compute theta for each dummy variable\n",
    "theta = {}\n",
    "for col in browser_dummies.columns:\n",
    "    cov_y_x = np.cov(data['yes'], data[col])[0, 1]  # Covariance between data['yes'] and X_i\n",
    "    var_x = np.var(data[col])  # Variance of X_i\n",
    "    theta[col] = cov_y_x / var_x if var_x != 0 else 0  # Handle division by zero\n",
    "\n",
    "# Initialize Y_adjusted as a copy of 'yes'\n",
    "data['Y_adjusted'] = data['yes']\n",
    "\n",
    "# Adjust Y for each browser type\n",
    "for col in browser_dummies.columns:\n",
    "    mean_x = data[col].mean()\n",
    "    data['Y_adjusted'] -= theta[col] * (data[col] - mean_x)\n",
    "\n",
    "print(theta)\n",
    "data['Y_adjusted']"
   ]
  },
  {
   "cell_type": "code",
   "execution_count": 62,
   "metadata": {},
   "outputs": [
    {
     "name": "stdout",
     "output_type": "stream",
     "text": [
      "Adjusted variance:  0.0635600111028979\n",
      "Minimal sample size:  6879.934727887888\n"
     ]
    }
   ],
   "source": [
    "var_cuped = data['Y_adjusted'].var()\n",
    "print('Adjusted variance: ', var_cuped)\n",
    "\n",
    "min_size = 2*(za+zb)**2 * var_cuped / delta**2\n",
    "print('Minimal sample size: ', min_size)"
   ]
  },
  {
   "cell_type": "markdown",
   "metadata": {},
   "source": [
    "Also test if this covariate is homogeneous between the two groups"
   ]
  },
  {
   "cell_type": "code",
   "execution_count": 63,
   "metadata": {},
   "outputs": [
    {
     "name": "stdout",
     "output_type": "stream",
     "text": [
      "Chi-Square Statistic: 453.2794894355725\n",
      "p-value: 1.0878252726396005e-11\n",
      "Degrees of Freedom: 268\n"
     ]
    }
   ],
   "source": [
    "from scipy.stats import chi2_contingency\n",
    "contingency_table = pd.crosstab(data['device_make'], data['experiment'])\n",
    "\n",
    "# Step 2: Perform the Chi-Square Test of Independence\n",
    "chi2_stat, p_value, dof, expected = chi2_contingency(contingency_table)\n",
    "\n",
    "# Display the results\n",
    "print(\"Chi-Square Statistic:\", chi2_stat)\n",
    "print(\"p-value:\", p_value)\n",
    "print(\"Degrees of Freedom:\", dof)"
   ]
  },
  {
   "cell_type": "code",
   "execution_count": 64,
   "metadata": {},
   "outputs": [
    {
     "data": {
      "text/html": [
       "<div>\n",
       "<style scoped>\n",
       "    .dataframe tbody tr th:only-of-type {\n",
       "        vertical-align: middle;\n",
       "    }\n",
       "\n",
       "    .dataframe tbody tr th {\n",
       "        vertical-align: top;\n",
       "    }\n",
       "\n",
       "    .dataframe thead th {\n",
       "        text-align: right;\n",
       "    }\n",
       "</style>\n",
       "<table border=\"1\" class=\"dataframe\">\n",
       "  <thead>\n",
       "    <tr style=\"text-align: right;\">\n",
       "      <th></th>\n",
       "      <th>auction_id</th>\n",
       "      <th>experiment</th>\n",
       "      <th>date</th>\n",
       "      <th>hour</th>\n",
       "      <th>device_make</th>\n",
       "      <th>platform_os</th>\n",
       "      <th>browser</th>\n",
       "      <th>yes</th>\n",
       "      <th>no</th>\n",
       "      <th>yes_aa</th>\n",
       "      <th>...</th>\n",
       "      <th>device_XiaoMi Redmi Note 7</th>\n",
       "      <th>device_XiaoMi Redmi Note 8</th>\n",
       "      <th>device_XiaoMi Redmi Note 8 Pro</th>\n",
       "      <th>device_XiaoMi Redmi Note 8T</th>\n",
       "      <th>device_XiaoMi Redmi S2</th>\n",
       "      <th>device_YAL-L21</th>\n",
       "      <th>device_iPhone</th>\n",
       "      <th>device_moto e5 play</th>\n",
       "      <th>device_moto e5 plus</th>\n",
       "      <th>Y_adjusted</th>\n",
       "    </tr>\n",
       "  </thead>\n",
       "  <tbody>\n",
       "    <tr>\n",
       "      <th>0</th>\n",
       "      <td>0008ef63-77a7-448b-bd1e-075f42c55e39</td>\n",
       "      <td>exposed</td>\n",
       "      <td>2020-07-10</td>\n",
       "      <td>8</td>\n",
       "      <td>Generic Smartphone</td>\n",
       "      <td>6</td>\n",
       "      <td>Chrome Mobile</td>\n",
       "      <td>0</td>\n",
       "      <td>0</td>\n",
       "      <td>0</td>\n",
       "      <td>...</td>\n",
       "      <td>False</td>\n",
       "      <td>False</td>\n",
       "      <td>False</td>\n",
       "      <td>False</td>\n",
       "      <td>False</td>\n",
       "      <td>False</td>\n",
       "      <td>False</td>\n",
       "      <td>False</td>\n",
       "      <td>False</td>\n",
       "      <td>0.004874</td>\n",
       "    </tr>\n",
       "  </tbody>\n",
       "</table>\n",
       "<p>1 rows × 279 columns</p>\n",
       "</div>"
      ],
      "text/plain": [
       "                             auction_id experiment        date  hour  \\\n",
       "0  0008ef63-77a7-448b-bd1e-075f42c55e39    exposed  2020-07-10     8   \n",
       "\n",
       "          device_make  platform_os        browser  yes  no  yes_aa  ...  \\\n",
       "0  Generic Smartphone            6  Chrome Mobile    0   0       0  ...   \n",
       "\n",
       "   device_XiaoMi Redmi Note 7  device_XiaoMi Redmi Note 8  \\\n",
       "0                       False                       False   \n",
       "\n",
       "   device_XiaoMi Redmi Note 8 Pro  device_XiaoMi Redmi Note 8T  \\\n",
       "0                           False                        False   \n",
       "\n",
       "   device_XiaoMi Redmi S2  device_YAL-L21  device_iPhone  device_moto e5 play  \\\n",
       "0                   False           False          False                False   \n",
       "\n",
       "   device_moto e5 plus  Y_adjusted  \n",
       "0                False    0.004874  \n",
       "\n",
       "[1 rows x 279 columns]"
      ]
     },
     "execution_count": 64,
     "metadata": {},
     "output_type": "execute_result"
    }
   ],
   "source": [
    "data.head(1)"
   ]
  },
  {
   "cell_type": "markdown",
   "metadata": {},
   "source": [
    "Now we choose yes_aa as covariate"
   ]
  },
  {
   "cell_type": "code",
   "execution_count": 65,
   "metadata": {},
   "outputs": [
    {
     "name": "stdout",
     "output_type": "stream",
     "text": [
      "0.02485181171344676\n",
      "0.9548313569115278\n",
      "Adjusted variance:  0.04208492831481391\n",
      "Minimal sample size:  4555.404487973091\n"
     ]
    }
   ],
   "source": [
    "cov_y_x = np.cov(data['yes'], data['yes_aa'])[0, 1]  # Covariance between data['yes'] and X_i\n",
    "var_x = np.var(data['yes_aa'])  # Variance of X_i\n",
    "\n",
    "# Initialize Y_adjusted as a copy of 'yes'\n",
    "data['Y_adjusted2'] = data['yes']\n",
    "theta = cov_y_x / var_x if var_x != 0 else 0\n",
    "\n",
    "mean_x = data['yes_aa'].mean()\n",
    "data['Y_adjusted2'] -= theta * (data['yes_aa'] - mean_x)\n",
    "\n",
    "print(cov_y_x)\n",
    "print(theta)\n",
    "\n",
    "var_cuped = data['Y_adjusted2'].var()\n",
    "print('Adjusted variance: ', var_cuped)\n",
    "\n",
    "min_size = 2*(za+zb)**2 * var_cuped / delta**2\n",
    "print('Minimal sample size: ', min_size)"
   ]
  },
  {
   "cell_type": "markdown",
   "metadata": {},
   "source": [
    "## PSM (to reweight features)\n",
    "\n",
    "Actually I don't wanna do this.... What about let's generate AA test data with necessary associations."
   ]
  },
  {
   "cell_type": "code",
   "execution_count": 66,
   "metadata": {},
   "outputs": [
    {
     "ename": "KeyError",
     "evalue": "\"['auction_id', 'experiment', 'date', 'yes'] not found in axis\"",
     "output_type": "error",
     "traceback": [
      "\u001b[1;31m---------------------------------------------------------------------------\u001b[0m",
      "\u001b[1;31mKeyError\u001b[0m                                  Traceback (most recent call last)",
      "Cell \u001b[1;32mIn[66], line 8\u001b[0m\n\u001b[0;32m      4\u001b[0m \u001b[38;5;28;01mfrom\u001b[39;00m \u001b[38;5;21;01msklearn\u001b[39;00m\u001b[38;5;21;01m.\u001b[39;00m\u001b[38;5;21;01mneighbors\u001b[39;00m \u001b[38;5;28;01mimport\u001b[39;00m NearestNeighbors\n\u001b[0;32m      6\u001b[0m data_encoded \u001b[38;5;241m=\u001b[39m pd\u001b[38;5;241m.\u001b[39mget_dummies(data[\u001b[38;5;124m'\u001b[39m\u001b[38;5;124mdevice_make\u001b[39m\u001b[38;5;124m'\u001b[39m], columns\u001b[38;5;241m=\u001b[39m[\u001b[38;5;124m'\u001b[39m\u001b[38;5;124mdevice_make\u001b[39m\u001b[38;5;124m'\u001b[39m], drop_first\u001b[38;5;241m=\u001b[39m\u001b[38;5;28;01mTrue\u001b[39;00m)\n\u001b[1;32m----> 8\u001b[0m X \u001b[38;5;241m=\u001b[39m \u001b[43mdata_encoded\u001b[49m\u001b[38;5;241;43m.\u001b[39;49m\u001b[43mdrop\u001b[49m\u001b[43m(\u001b[49m\u001b[43mcolumns\u001b[49m\u001b[38;5;241;43m=\u001b[39;49m\u001b[43m[\u001b[49m\u001b[38;5;124;43m'\u001b[39;49m\u001b[38;5;124;43mauction_id\u001b[39;49m\u001b[38;5;124;43m'\u001b[39;49m\u001b[43m,\u001b[49m\u001b[43m \u001b[49m\u001b[38;5;124;43m'\u001b[39;49m\u001b[38;5;124;43mexperiment\u001b[39;49m\u001b[38;5;124;43m'\u001b[39;49m\u001b[43m,\u001b[49m\u001b[43m \u001b[49m\u001b[38;5;124;43m'\u001b[39;49m\u001b[38;5;124;43mdate\u001b[39;49m\u001b[38;5;124;43m'\u001b[39;49m\u001b[43m,\u001b[49m\u001b[43m  \u001b[49m\u001b[38;5;124;43m'\u001b[39;49m\u001b[38;5;124;43myes\u001b[39;49m\u001b[38;5;124;43m'\u001b[39;49m\u001b[43m]\u001b[49m\u001b[43m)\u001b[49m  \u001b[38;5;66;03m# Exclude experiment and target variable\u001b[39;00m\n\u001b[0;32m      9\u001b[0m y \u001b[38;5;241m=\u001b[39m data_encoded[\u001b[38;5;124m'\u001b[39m\u001b[38;5;124mexperiment\u001b[39m\u001b[38;5;124m'\u001b[39m]\n\u001b[0;32m     11\u001b[0m \u001b[38;5;66;03m# Logistic regression for propensity score estimation\u001b[39;00m\n",
      "File \u001b[1;32m~\\AppData\\Roaming\\Python\\Python311\\site-packages\\pandas\\core\\frame.py:5344\u001b[0m, in \u001b[0;36mDataFrame.drop\u001b[1;34m(self, labels, axis, index, columns, level, inplace, errors)\u001b[0m\n\u001b[0;32m   5196\u001b[0m \u001b[38;5;28;01mdef\u001b[39;00m \u001b[38;5;21mdrop\u001b[39m(\n\u001b[0;32m   5197\u001b[0m     \u001b[38;5;28mself\u001b[39m,\n\u001b[0;32m   5198\u001b[0m     labels: IndexLabel \u001b[38;5;241m|\u001b[39m \u001b[38;5;28;01mNone\u001b[39;00m \u001b[38;5;241m=\u001b[39m \u001b[38;5;28;01mNone\u001b[39;00m,\n\u001b[1;32m   (...)\u001b[0m\n\u001b[0;32m   5205\u001b[0m     errors: IgnoreRaise \u001b[38;5;241m=\u001b[39m \u001b[38;5;124m\"\u001b[39m\u001b[38;5;124mraise\u001b[39m\u001b[38;5;124m\"\u001b[39m,\n\u001b[0;32m   5206\u001b[0m ) \u001b[38;5;241m-\u001b[39m\u001b[38;5;241m>\u001b[39m DataFrame \u001b[38;5;241m|\u001b[39m \u001b[38;5;28;01mNone\u001b[39;00m:\n\u001b[0;32m   5207\u001b[0m \u001b[38;5;250m    \u001b[39m\u001b[38;5;124;03m\"\"\"\u001b[39;00m\n\u001b[0;32m   5208\u001b[0m \u001b[38;5;124;03m    Drop specified labels from rows or columns.\u001b[39;00m\n\u001b[0;32m   5209\u001b[0m \n\u001b[1;32m   (...)\u001b[0m\n\u001b[0;32m   5342\u001b[0m \u001b[38;5;124;03m            weight  1.0     0.8\u001b[39;00m\n\u001b[0;32m   5343\u001b[0m \u001b[38;5;124;03m    \"\"\"\u001b[39;00m\n\u001b[1;32m-> 5344\u001b[0m     \u001b[38;5;28;01mreturn\u001b[39;00m \u001b[38;5;28;43msuper\u001b[39;49m\u001b[43m(\u001b[49m\u001b[43m)\u001b[49m\u001b[38;5;241;43m.\u001b[39;49m\u001b[43mdrop\u001b[49m\u001b[43m(\u001b[49m\n\u001b[0;32m   5345\u001b[0m \u001b[43m        \u001b[49m\u001b[43mlabels\u001b[49m\u001b[38;5;241;43m=\u001b[39;49m\u001b[43mlabels\u001b[49m\u001b[43m,\u001b[49m\n\u001b[0;32m   5346\u001b[0m \u001b[43m        \u001b[49m\u001b[43maxis\u001b[49m\u001b[38;5;241;43m=\u001b[39;49m\u001b[43maxis\u001b[49m\u001b[43m,\u001b[49m\n\u001b[0;32m   5347\u001b[0m \u001b[43m        \u001b[49m\u001b[43mindex\u001b[49m\u001b[38;5;241;43m=\u001b[39;49m\u001b[43mindex\u001b[49m\u001b[43m,\u001b[49m\n\u001b[0;32m   5348\u001b[0m \u001b[43m        \u001b[49m\u001b[43mcolumns\u001b[49m\u001b[38;5;241;43m=\u001b[39;49m\u001b[43mcolumns\u001b[49m\u001b[43m,\u001b[49m\n\u001b[0;32m   5349\u001b[0m \u001b[43m        \u001b[49m\u001b[43mlevel\u001b[49m\u001b[38;5;241;43m=\u001b[39;49m\u001b[43mlevel\u001b[49m\u001b[43m,\u001b[49m\n\u001b[0;32m   5350\u001b[0m \u001b[43m        \u001b[49m\u001b[43minplace\u001b[49m\u001b[38;5;241;43m=\u001b[39;49m\u001b[43minplace\u001b[49m\u001b[43m,\u001b[49m\n\u001b[0;32m   5351\u001b[0m \u001b[43m        \u001b[49m\u001b[43merrors\u001b[49m\u001b[38;5;241;43m=\u001b[39;49m\u001b[43merrors\u001b[49m\u001b[43m,\u001b[49m\n\u001b[0;32m   5352\u001b[0m \u001b[43m    \u001b[49m\u001b[43m)\u001b[49m\n",
      "File \u001b[1;32m~\\AppData\\Roaming\\Python\\Python311\\site-packages\\pandas\\core\\generic.py:4711\u001b[0m, in \u001b[0;36mNDFrame.drop\u001b[1;34m(self, labels, axis, index, columns, level, inplace, errors)\u001b[0m\n\u001b[0;32m   4709\u001b[0m \u001b[38;5;28;01mfor\u001b[39;00m axis, labels \u001b[38;5;129;01min\u001b[39;00m axes\u001b[38;5;241m.\u001b[39mitems():\n\u001b[0;32m   4710\u001b[0m     \u001b[38;5;28;01mif\u001b[39;00m labels \u001b[38;5;129;01mis\u001b[39;00m \u001b[38;5;129;01mnot\u001b[39;00m \u001b[38;5;28;01mNone\u001b[39;00m:\n\u001b[1;32m-> 4711\u001b[0m         obj \u001b[38;5;241m=\u001b[39m \u001b[43mobj\u001b[49m\u001b[38;5;241;43m.\u001b[39;49m\u001b[43m_drop_axis\u001b[49m\u001b[43m(\u001b[49m\u001b[43mlabels\u001b[49m\u001b[43m,\u001b[49m\u001b[43m \u001b[49m\u001b[43maxis\u001b[49m\u001b[43m,\u001b[49m\u001b[43m \u001b[49m\u001b[43mlevel\u001b[49m\u001b[38;5;241;43m=\u001b[39;49m\u001b[43mlevel\u001b[49m\u001b[43m,\u001b[49m\u001b[43m \u001b[49m\u001b[43merrors\u001b[49m\u001b[38;5;241;43m=\u001b[39;49m\u001b[43merrors\u001b[49m\u001b[43m)\u001b[49m\n\u001b[0;32m   4713\u001b[0m \u001b[38;5;28;01mif\u001b[39;00m inplace:\n\u001b[0;32m   4714\u001b[0m     \u001b[38;5;28mself\u001b[39m\u001b[38;5;241m.\u001b[39m_update_inplace(obj)\n",
      "File \u001b[1;32m~\\AppData\\Roaming\\Python\\Python311\\site-packages\\pandas\\core\\generic.py:4753\u001b[0m, in \u001b[0;36mNDFrame._drop_axis\u001b[1;34m(self, labels, axis, level, errors, only_slice)\u001b[0m\n\u001b[0;32m   4751\u001b[0m         new_axis \u001b[38;5;241m=\u001b[39m axis\u001b[38;5;241m.\u001b[39mdrop(labels, level\u001b[38;5;241m=\u001b[39mlevel, errors\u001b[38;5;241m=\u001b[39merrors)\n\u001b[0;32m   4752\u001b[0m     \u001b[38;5;28;01melse\u001b[39;00m:\n\u001b[1;32m-> 4753\u001b[0m         new_axis \u001b[38;5;241m=\u001b[39m \u001b[43maxis\u001b[49m\u001b[38;5;241;43m.\u001b[39;49m\u001b[43mdrop\u001b[49m\u001b[43m(\u001b[49m\u001b[43mlabels\u001b[49m\u001b[43m,\u001b[49m\u001b[43m \u001b[49m\u001b[43merrors\u001b[49m\u001b[38;5;241;43m=\u001b[39;49m\u001b[43merrors\u001b[49m\u001b[43m)\u001b[49m\n\u001b[0;32m   4754\u001b[0m     indexer \u001b[38;5;241m=\u001b[39m axis\u001b[38;5;241m.\u001b[39mget_indexer(new_axis)\n\u001b[0;32m   4756\u001b[0m \u001b[38;5;66;03m# Case for non-unique axis\u001b[39;00m\n\u001b[0;32m   4757\u001b[0m \u001b[38;5;28;01melse\u001b[39;00m:\n",
      "File \u001b[1;32m~\\AppData\\Roaming\\Python\\Python311\\site-packages\\pandas\\core\\indexes\\base.py:7000\u001b[0m, in \u001b[0;36mIndex.drop\u001b[1;34m(self, labels, errors)\u001b[0m\n\u001b[0;32m   6998\u001b[0m \u001b[38;5;28;01mif\u001b[39;00m mask\u001b[38;5;241m.\u001b[39many():\n\u001b[0;32m   6999\u001b[0m     \u001b[38;5;28;01mif\u001b[39;00m errors \u001b[38;5;241m!=\u001b[39m \u001b[38;5;124m\"\u001b[39m\u001b[38;5;124mignore\u001b[39m\u001b[38;5;124m\"\u001b[39m:\n\u001b[1;32m-> 7000\u001b[0m         \u001b[38;5;28;01mraise\u001b[39;00m \u001b[38;5;167;01mKeyError\u001b[39;00m(\u001b[38;5;124mf\u001b[39m\u001b[38;5;124m\"\u001b[39m\u001b[38;5;132;01m{\u001b[39;00mlabels[mask]\u001b[38;5;241m.\u001b[39mtolist()\u001b[38;5;132;01m}\u001b[39;00m\u001b[38;5;124m not found in axis\u001b[39m\u001b[38;5;124m\"\u001b[39m)\n\u001b[0;32m   7001\u001b[0m     indexer \u001b[38;5;241m=\u001b[39m indexer[\u001b[38;5;241m~\u001b[39mmask]\n\u001b[0;32m   7002\u001b[0m \u001b[38;5;28;01mreturn\u001b[39;00m \u001b[38;5;28mself\u001b[39m\u001b[38;5;241m.\u001b[39mdelete(indexer)\n",
      "\u001b[1;31mKeyError\u001b[0m: \"['auction_id', 'experiment', 'date', 'yes'] not found in axis\""
     ]
    }
   ],
   "source": [
    "import pandas as pd\n",
    "import numpy as np\n",
    "from sklearn.linear_model import LogisticRegression\n",
    "from sklearn.neighbors import NearestNeighbors\n",
    "\n",
    "data_encoded = pd.get_dummies(data['device_make'], columns=['device_make'], drop_first=True)\n",
    "\n",
    "X = data_encoded.drop(columns=['auction_id', 'experiment', 'date',  'yes'])  # Exclude experiment and target variable\n",
    "y = data_encoded['experiment']\n",
    "\n",
    "# Logistic regression for propensity score estimation\n",
    "logistic = LogisticRegression(solver='liblinear')\n",
    "logistic.fit(X, y)\n",
    "data_encoded['propensity_score'] = logistic.predict_proba(X)[:, 1]  # Propensity scores\n",
    "\n",
    "# Step 3: Matching\n",
    "# Split the data into treatment and control groups\n",
    "treated = data_encoded[data_encoded['experiment'] == 1]\n",
    "control = data_encoded[data_encoded['experiment'] == 0]\n",
    "\n",
    "# Use Nearest Neighbors to match control units to treated units based on propensity score\n",
    "nn = NearestNeighbors(n_neighbors=1, algorithm='ball_tree').fit(control[['propensity_score']])\n",
    "distances, indices = nn.kneighbors(treated[['propensity_score']])\n",
    "\n",
    "# Get matched control indices\n",
    "control_matched = control.iloc[indices.flatten()].reset_index(drop=True)\n",
    "treated_matched = treated.reset_index(drop=True)\n",
    "\n",
    "# Step 4: Combine matched samples\n",
    "matched_data = pd.concat([treated_matched, control_matched])\n",
    "matched_data"
   ]
  }
 ],
 "metadata": {
  "kernelspec": {
   "display_name": "Python 3",
   "language": "python",
   "name": "python3"
  },
  "language_info": {
   "codemirror_mode": {
    "name": "ipython",
    "version": 3
   },
   "file_extension": ".py",
   "mimetype": "text/x-python",
   "name": "python",
   "nbconvert_exporter": "python",
   "pygments_lexer": "ipython3",
   "version": "3.11.4"
  }
 },
 "nbformat": 4,
 "nbformat_minor": 2
}
