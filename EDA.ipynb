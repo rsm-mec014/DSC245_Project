{
 "cells": [
  {
   "cell_type": "code",
   "execution_count": 1,
   "metadata": {},
   "outputs": [],
   "source": [
    "import numpy as np\n",
    "import pandas as pd\n",
    "from matplotlib import pyplot as plt"
   ]
  },
  {
   "cell_type": "markdown",
   "metadata": {},
   "source": [
    "# Ad-tech"
   ]
  },
  {
   "cell_type": "code",
   "execution_count": 2,
   "metadata": {},
   "outputs": [
    {
     "data": {
      "text/html": [
       "<div>\n",
       "<style scoped>\n",
       "    .dataframe tbody tr th:only-of-type {\n",
       "        vertical-align: middle;\n",
       "    }\n",
       "\n",
       "    .dataframe tbody tr th {\n",
       "        vertical-align: top;\n",
       "    }\n",
       "\n",
       "    .dataframe thead th {\n",
       "        text-align: right;\n",
       "    }\n",
       "</style>\n",
       "<table border=\"1\" class=\"dataframe\">\n",
       "  <thead>\n",
       "    <tr style=\"text-align: right;\">\n",
       "      <th></th>\n",
       "      <th>auction_id</th>\n",
       "      <th>experiment</th>\n",
       "      <th>date</th>\n",
       "      <th>hour</th>\n",
       "      <th>device_make</th>\n",
       "      <th>platform_os</th>\n",
       "      <th>browser</th>\n",
       "      <th>yes</th>\n",
       "      <th>no</th>\n",
       "    </tr>\n",
       "  </thead>\n",
       "  <tbody>\n",
       "    <tr>\n",
       "      <th>4038</th>\n",
       "      <td>818f37f3-dae8-4a33-a22e-e54056e0ba7d</td>\n",
       "      <td>control</td>\n",
       "      <td>2020-07-03</td>\n",
       "      <td>15</td>\n",
       "      <td>Samsung SM-A600FN</td>\n",
       "      <td>6</td>\n",
       "      <td>Chrome Mobile WebView</td>\n",
       "      <td>0</td>\n",
       "      <td>0</td>\n",
       "    </tr>\n",
       "    <tr>\n",
       "      <th>3345</th>\n",
       "      <td>6be2edc7-cf48-4831-8edf-3694eb241e09</td>\n",
       "      <td>control</td>\n",
       "      <td>2020-07-03</td>\n",
       "      <td>15</td>\n",
       "      <td>Generic Smartphone</td>\n",
       "      <td>6</td>\n",
       "      <td>Chrome Mobile</td>\n",
       "      <td>0</td>\n",
       "      <td>0</td>\n",
       "    </tr>\n",
       "    <tr>\n",
       "      <th>3348</th>\n",
       "      <td>6bfed6f0-66e1-4cf8-9871-ff948b5a2afe</td>\n",
       "      <td>exposed</td>\n",
       "      <td>2020-07-03</td>\n",
       "      <td>11</td>\n",
       "      <td>Generic Smartphone</td>\n",
       "      <td>6</td>\n",
       "      <td>Chrome Mobile</td>\n",
       "      <td>0</td>\n",
       "      <td>0</td>\n",
       "    </tr>\n",
       "    <tr>\n",
       "      <th>3354</th>\n",
       "      <td>6c3987e1-42ab-4bca-b1c9-3c6e4446f7eb</td>\n",
       "      <td>control</td>\n",
       "      <td>2020-07-03</td>\n",
       "      <td>15</td>\n",
       "      <td>Generic Smartphone</td>\n",
       "      <td>6</td>\n",
       "      <td>Chrome Mobile</td>\n",
       "      <td>0</td>\n",
       "      <td>0</td>\n",
       "    </tr>\n",
       "    <tr>\n",
       "      <th>3356</th>\n",
       "      <td>6c3cd274-3fba-4a35-97c8-85af0385517a</td>\n",
       "      <td>exposed</td>\n",
       "      <td>2020-07-03</td>\n",
       "      <td>8</td>\n",
       "      <td>Generic Smartphone</td>\n",
       "      <td>6</td>\n",
       "      <td>Chrome Mobile</td>\n",
       "      <td>0</td>\n",
       "      <td>0</td>\n",
       "    </tr>\n",
       "    <tr>\n",
       "      <th>...</th>\n",
       "      <td>...</td>\n",
       "      <td>...</td>\n",
       "      <td>...</td>\n",
       "      <td>...</td>\n",
       "      <td>...</td>\n",
       "      <td>...</td>\n",
       "      <td>...</td>\n",
       "      <td>...</td>\n",
       "      <td>...</td>\n",
       "    </tr>\n",
       "    <tr>\n",
       "      <th>4764</th>\n",
       "      <td>9812db3b-2c00-472d-8d30-a0b06c813357</td>\n",
       "      <td>exposed</td>\n",
       "      <td>2020-07-10</td>\n",
       "      <td>15</td>\n",
       "      <td>Samsung SM-G960F</td>\n",
       "      <td>6</td>\n",
       "      <td>Chrome Mobile WebView</td>\n",
       "      <td>0</td>\n",
       "      <td>0</td>\n",
       "    </tr>\n",
       "    <tr>\n",
       "      <th>4736</th>\n",
       "      <td>97041ed0-0eb3-4306-9ce2-58b24a2226b0</td>\n",
       "      <td>exposed</td>\n",
       "      <td>2020-07-10</td>\n",
       "      <td>16</td>\n",
       "      <td>Samsung SM-G920F</td>\n",
       "      <td>6</td>\n",
       "      <td>Samsung Internet</td>\n",
       "      <td>0</td>\n",
       "      <td>0</td>\n",
       "    </tr>\n",
       "    <tr>\n",
       "      <th>4735</th>\n",
       "      <td>96ee2c29-9680-4621-b14c-0c66ec0988e2</td>\n",
       "      <td>control</td>\n",
       "      <td>2020-07-10</td>\n",
       "      <td>7</td>\n",
       "      <td>Generic Smartphone</td>\n",
       "      <td>6</td>\n",
       "      <td>Chrome Mobile WebView</td>\n",
       "      <td>0</td>\n",
       "      <td>1</td>\n",
       "    </tr>\n",
       "    <tr>\n",
       "      <th>4865</th>\n",
       "      <td>9b16782b-684f-408f-9fa9-187e902b2fc1</td>\n",
       "      <td>exposed</td>\n",
       "      <td>2020-07-10</td>\n",
       "      <td>7</td>\n",
       "      <td>Generic Smartphone</td>\n",
       "      <td>6</td>\n",
       "      <td>Chrome Mobile</td>\n",
       "      <td>0</td>\n",
       "      <td>1</td>\n",
       "    </tr>\n",
       "    <tr>\n",
       "      <th>8076</th>\n",
       "      <td>fffbb9ff-568a-41a5-a0c3-6866592f80d8</td>\n",
       "      <td>control</td>\n",
       "      <td>2020-07-10</td>\n",
       "      <td>14</td>\n",
       "      <td>Samsung SM-G960F</td>\n",
       "      <td>6</td>\n",
       "      <td>Facebook</td>\n",
       "      <td>0</td>\n",
       "      <td>0</td>\n",
       "    </tr>\n",
       "  </tbody>\n",
       "</table>\n",
       "<p>8077 rows × 9 columns</p>\n",
       "</div>"
      ],
      "text/plain": [
       "                                auction_id experiment        date  hour  \\\n",
       "4038  818f37f3-dae8-4a33-a22e-e54056e0ba7d    control  2020-07-03    15   \n",
       "3345  6be2edc7-cf48-4831-8edf-3694eb241e09    control  2020-07-03    15   \n",
       "3348  6bfed6f0-66e1-4cf8-9871-ff948b5a2afe    exposed  2020-07-03    11   \n",
       "3354  6c3987e1-42ab-4bca-b1c9-3c6e4446f7eb    control  2020-07-03    15   \n",
       "3356  6c3cd274-3fba-4a35-97c8-85af0385517a    exposed  2020-07-03     8   \n",
       "...                                    ...        ...         ...   ...   \n",
       "4764  9812db3b-2c00-472d-8d30-a0b06c813357    exposed  2020-07-10    15   \n",
       "4736  97041ed0-0eb3-4306-9ce2-58b24a2226b0    exposed  2020-07-10    16   \n",
       "4735  96ee2c29-9680-4621-b14c-0c66ec0988e2    control  2020-07-10     7   \n",
       "4865  9b16782b-684f-408f-9fa9-187e902b2fc1    exposed  2020-07-10     7   \n",
       "8076  fffbb9ff-568a-41a5-a0c3-6866592f80d8    control  2020-07-10    14   \n",
       "\n",
       "             device_make  platform_os                browser  yes  no  \n",
       "4038   Samsung SM-A600FN            6  Chrome Mobile WebView    0   0  \n",
       "3345  Generic Smartphone            6          Chrome Mobile    0   0  \n",
       "3348  Generic Smartphone            6          Chrome Mobile    0   0  \n",
       "3354  Generic Smartphone            6          Chrome Mobile    0   0  \n",
       "3356  Generic Smartphone            6          Chrome Mobile    0   0  \n",
       "...                  ...          ...                    ...  ...  ..  \n",
       "4764    Samsung SM-G960F            6  Chrome Mobile WebView    0   0  \n",
       "4736    Samsung SM-G920F            6       Samsung Internet    0   0  \n",
       "4735  Generic Smartphone            6  Chrome Mobile WebView    0   1  \n",
       "4865  Generic Smartphone            6          Chrome Mobile    0   1  \n",
       "8076    Samsung SM-G960F            6               Facebook    0   0  \n",
       "\n",
       "[8077 rows x 9 columns]"
      ]
     },
     "execution_count": 2,
     "metadata": {},
     "output_type": "execute_result"
    }
   ],
   "source": [
    "data = pd.read_csv('data_adtech\\AdSmartABdata - AdSmartABdata.csv')\n",
    "data = data.sort_values(by=['date'], ascending=True)\n",
    "data"
   ]
  },
  {
   "cell_type": "markdown",
   "metadata": {},
   "source": [
    "## Generating pre-experiment AA data\n",
    "to be used as one CUPED covariate"
   ]
  },
  {
   "cell_type": "code",
   "execution_count": 3,
   "metadata": {},
   "outputs": [
    {
     "data": {
      "text/html": [
       "<div>\n",
       "<style scoped>\n",
       "    .dataframe tbody tr th:only-of-type {\n",
       "        vertical-align: middle;\n",
       "    }\n",
       "\n",
       "    .dataframe tbody tr th {\n",
       "        vertical-align: top;\n",
       "    }\n",
       "\n",
       "    .dataframe thead th {\n",
       "        text-align: right;\n",
       "    }\n",
       "</style>\n",
       "<table border=\"1\" class=\"dataframe\">\n",
       "  <thead>\n",
       "    <tr style=\"text-align: right;\">\n",
       "      <th></th>\n",
       "      <th>auction_id</th>\n",
       "      <th>experiment</th>\n",
       "      <th>date</th>\n",
       "      <th>hour</th>\n",
       "      <th>device_make</th>\n",
       "      <th>platform_os</th>\n",
       "      <th>browser</th>\n",
       "      <th>yes</th>\n",
       "      <th>no</th>\n",
       "      <th>yes_aa</th>\n",
       "    </tr>\n",
       "  </thead>\n",
       "  <tbody>\n",
       "    <tr>\n",
       "      <th>4038</th>\n",
       "      <td>818f37f3-dae8-4a33-a22e-e54056e0ba7d</td>\n",
       "      <td>control</td>\n",
       "      <td>2020-07-03</td>\n",
       "      <td>15</td>\n",
       "      <td>Samsung SM-A600FN</td>\n",
       "      <td>6</td>\n",
       "      <td>Chrome Mobile WebView</td>\n",
       "      <td>0</td>\n",
       "      <td>0</td>\n",
       "      <td>0</td>\n",
       "    </tr>\n",
       "    <tr>\n",
       "      <th>3345</th>\n",
       "      <td>6be2edc7-cf48-4831-8edf-3694eb241e09</td>\n",
       "      <td>control</td>\n",
       "      <td>2020-07-03</td>\n",
       "      <td>15</td>\n",
       "      <td>Generic Smartphone</td>\n",
       "      <td>6</td>\n",
       "      <td>Chrome Mobile</td>\n",
       "      <td>0</td>\n",
       "      <td>0</td>\n",
       "      <td>0</td>\n",
       "    </tr>\n",
       "    <tr>\n",
       "      <th>3348</th>\n",
       "      <td>6bfed6f0-66e1-4cf8-9871-ff948b5a2afe</td>\n",
       "      <td>exposed</td>\n",
       "      <td>2020-07-03</td>\n",
       "      <td>11</td>\n",
       "      <td>Generic Smartphone</td>\n",
       "      <td>6</td>\n",
       "      <td>Chrome Mobile</td>\n",
       "      <td>0</td>\n",
       "      <td>0</td>\n",
       "      <td>0</td>\n",
       "    </tr>\n",
       "    <tr>\n",
       "      <th>3354</th>\n",
       "      <td>6c3987e1-42ab-4bca-b1c9-3c6e4446f7eb</td>\n",
       "      <td>control</td>\n",
       "      <td>2020-07-03</td>\n",
       "      <td>15</td>\n",
       "      <td>Generic Smartphone</td>\n",
       "      <td>6</td>\n",
       "      <td>Chrome Mobile</td>\n",
       "      <td>0</td>\n",
       "      <td>0</td>\n",
       "      <td>0</td>\n",
       "    </tr>\n",
       "    <tr>\n",
       "      <th>3356</th>\n",
       "      <td>6c3cd274-3fba-4a35-97c8-85af0385517a</td>\n",
       "      <td>exposed</td>\n",
       "      <td>2020-07-03</td>\n",
       "      <td>8</td>\n",
       "      <td>Generic Smartphone</td>\n",
       "      <td>6</td>\n",
       "      <td>Chrome Mobile</td>\n",
       "      <td>0</td>\n",
       "      <td>0</td>\n",
       "      <td>0</td>\n",
       "    </tr>\n",
       "  </tbody>\n",
       "</table>\n",
       "</div>"
      ],
      "text/plain": [
       "                                auction_id experiment        date  hour  \\\n",
       "4038  818f37f3-dae8-4a33-a22e-e54056e0ba7d    control  2020-07-03    15   \n",
       "3345  6be2edc7-cf48-4831-8edf-3694eb241e09    control  2020-07-03    15   \n",
       "3348  6bfed6f0-66e1-4cf8-9871-ff948b5a2afe    exposed  2020-07-03    11   \n",
       "3354  6c3987e1-42ab-4bca-b1c9-3c6e4446f7eb    control  2020-07-03    15   \n",
       "3356  6c3cd274-3fba-4a35-97c8-85af0385517a    exposed  2020-07-03     8   \n",
       "\n",
       "             device_make  platform_os                browser  yes  no  yes_aa  \n",
       "4038   Samsung SM-A600FN            6  Chrome Mobile WebView    0   0       0  \n",
       "3345  Generic Smartphone            6          Chrome Mobile    0   0       0  \n",
       "3348  Generic Smartphone            6          Chrome Mobile    0   0       0  \n",
       "3354  Generic Smartphone            6          Chrome Mobile    0   0       0  \n",
       "3356  Generic Smartphone            6          Chrome Mobile    0   0       0  "
      ]
     },
     "execution_count": 3,
     "metadata": {},
     "output_type": "execute_result"
    }
   ],
   "source": [
    "np.random.seed(42)\n",
    "\n",
    "mean_yes = data[\"yes\"].mean()\n",
    "var_yes = data[\"yes\"].var()\n",
    "\n",
    "desired_variance_reduction = 0.2  # (1 - 0.8)\n",
    "\n",
    "# Compute the target variance for the covariate\n",
    "target_variance = (1 - desired_variance_reduction) * var_yes\n",
    "\n",
    "# Generate the CUPED covariate 'yes_aa'\n",
    "yes_aa = (data[\"yes\"] - mean_yes) + np.random.normal(0, np.sqrt(target_variance), len(data))\n",
    "yes_aa = yes_aa.clip(0, 1).astype(int)  # Clip to ensure binary values\n",
    "\n",
    "data[\"yes_aa\"] = yes_aa\n",
    "\n",
    "data.head()"
   ]
  },
  {
   "cell_type": "code",
   "execution_count": 4,
   "metadata": {},
   "outputs": [
    {
     "data": {
      "text/plain": [
       "(-2.107278649715408, 0.035124460220699455)"
      ]
     },
     "execution_count": 4,
     "metadata": {},
     "output_type": "execute_result"
    }
   ],
   "source": [
    "from scipy import stats\n",
    "\n",
    "# Separate the data into control and experimental groups\n",
    "control_group = data[data['experiment']=='control']['yes']\n",
    "experimental_group = data[data['experiment']=='exposed']['yes']\n",
    "\n",
    "# Perform an independent t-test\n",
    "t_stat, p_value = stats.ttest_ind(control_group, experimental_group, equal_var=False)\n",
    "\n",
    "# Display the results\n",
    "t_stat, p_value"
   ]
  },
  {
   "cell_type": "code",
   "execution_count": 5,
   "metadata": {},
   "outputs": [
    {
     "name": "stdout",
     "output_type": "stream",
     "text": [
      "Conversion rate control:  0.06484893146647015\n",
      "Conversion rate treatment:  0.07688467299051423\n"
     ]
    }
   ],
   "source": [
    "p1 = control_group.sum() / data[data['experiment']=='control']['auction_id'].count()\n",
    "p2 = experimental_group.sum() / data[data['experiment']=='exposed']['auction_id'].count()\n",
    "print ('Conversion rate control: ', p1)\n",
    "print ('Conversion rate treatment: ', p2)"
   ]
  },
  {
   "cell_type": "code",
   "execution_count": 6,
   "metadata": {},
   "outputs": [
    {
     "name": "stdout",
     "output_type": "stream",
     "text": [
      "Overall conversion:  0.07081837315835088\n",
      "Overall var:  0.06580313118155544\n"
     ]
    }
   ],
   "source": [
    "p0 = data['yes'].mean()\n",
    "print('Overall conversion: ', p0)\n",
    "n = data['auction_id'].nunique()\n",
    "var0 = p0*(1-p0)\n",
    "print('Overall var: ', var0)\n",
    "\n",
    "var1 = data[data['experiment']=='control']['yes'].var()\n",
    "var2 = data[data['experiment']=='exposed']['yes'].var()"
   ]
  },
  {
   "cell_type": "markdown",
   "metadata": {},
   "source": [
    "### Calculating minimal sample size"
   ]
  },
  {
   "cell_type": "code",
   "execution_count": 7,
   "metadata": {},
   "outputs": [
    {
     "name": "stdout",
     "output_type": "stream",
     "text": [
      "Minimal sample size:  7122.73707263567\n"
     ]
    }
   ],
   "source": [
    "delta = p2-p1\n",
    "za = 1.96\n",
    "zb = 0.84\n",
    "min_size = 2*(za+zb)**2 * var0 / delta**2\n",
    "print('Minimal sample size: ', min_size)"
   ]
  },
  {
   "cell_type": "markdown",
   "metadata": {},
   "source": [
    "## CUPED\n",
    "Try to find covariate. We first try to find device_make as covariate"
   ]
  },
  {
   "cell_type": "code",
   "execution_count": 8,
   "metadata": {},
   "outputs": [],
   "source": [
    "# One-hot encoding of browser categories\n",
    "browser_dummies = pd.get_dummies(data['device_make'], prefix='device', drop_first=True)\n",
    "data = pd.concat([data, browser_dummies], axis=1)\n",
    "\n",
    "# Compute theta for each dummy variable\n",
    "theta = {}\n",
    "for col in browser_dummies.columns:\n",
    "    cov_y_x = np.cov(data['yes'], data[col])[0, 1]  # Covariance between data['yes'] and X_i\n",
    "    var_x = np.var(data[col])  # Variance of X_i\n",
    "    theta[col] = cov_y_x / var_x if var_x != 0 else 0  # Handle division by zero\n",
    "\n",
    "# Adjust Y for each browser type\n",
    "data['browser_sum'] = 0\n",
    "for col in browser_dummies.columns:\n",
    "    mean_x = data[col].mean()\n",
    "    data['browser_sum'] += theta[col] * (data[col] - mean_x)\n",
    "\n",
    "data['Y_adjusted'] = data['yes'] - data['browser_sum']"
   ]
  },
  {
   "cell_type": "code",
   "execution_count": 9,
   "metadata": {},
   "outputs": [
    {
     "name": "stdout",
     "output_type": "stream",
     "text": [
      "Adjusted variance:  0.06356001110289733\n",
      "The correlation coefficient is: 0.18496831430003094\n",
      "Adjusted Minimal sample size:  6879.934727887827\n"
     ]
    }
   ],
   "source": [
    "var_cuped = data['Y_adjusted'].var()\n",
    "print('Adjusted variance: ', var_cuped)\n",
    "\n",
    "correlation = data['yes'].corr(data['browser_sum'])\n",
    "print(f\"The correlation coefficient is: {correlation}\")\n",
    "\n",
    "min_size = 2*(za+zb)**2 * var_cuped / delta**2\n",
    "print('Adjusted Minimal sample size: ', min_size)"
   ]
  },
  {
   "cell_type": "markdown",
   "metadata": {},
   "source": [
    "Also test if this covariate is homogeneous between the two groups"
   ]
  },
  {
   "cell_type": "code",
   "execution_count": 10,
   "metadata": {},
   "outputs": [
    {
     "name": "stdout",
     "output_type": "stream",
     "text": [
      "Chi-Square Statistic: 453.2794894355725\n",
      "p-value: 1.0878252726396005e-11\n",
      "Degrees of Freedom: 268\n"
     ]
    }
   ],
   "source": [
    "from scipy.stats import chi2_contingency\n",
    "contingency_table = pd.crosstab(data['device_make'], data['experiment'])\n",
    "\n",
    "# Step 2: Perform the Chi-Square Test of Independence\n",
    "chi2_stat, p_value, dof, expected = chi2_contingency(contingency_table)\n",
    "\n",
    "# Display the results\n",
    "print(\"Chi-Square Statistic:\", chi2_stat)\n",
    "print(\"p-value:\", p_value)\n",
    "print(\"Degrees of Freedom:\", dof)"
   ]
  },
  {
   "cell_type": "markdown",
   "metadata": {},
   "source": [
    "## Use OS as covariate"
   ]
  },
  {
   "cell_type": "code",
   "execution_count": 11,
   "metadata": {},
   "outputs": [
    {
     "name": "stdout",
     "output_type": "stream",
     "text": [
      "Adjusted variance:  0.06561532891476819\n",
      "The correlation coefficient is: 0.05456687237202707\n",
      "Adjusted Minimal sample size:  7102.408766915995\n"
     ]
    }
   ],
   "source": [
    "# One-hot encoding of browser categories\n",
    "os_dummy = pd.get_dummies(data['platform_os'], prefix='OS', drop_first=True)\n",
    "data = pd.concat([data, os_dummy], axis=1)\n",
    "\n",
    "# Compute theta for each dummy variable\n",
    "theta = {}\n",
    "for col in os_dummy.columns:\n",
    "    cov_y_x = np.cov(data['yes'], data[col])[0, 1]  # Covariance between data['yes'] and X_i\n",
    "    var_x = np.var(data[col])  # Variance of X_i\n",
    "    theta[col] = cov_y_x / var_x if var_x != 0 else 0  # Handle division by zero\n",
    "\n",
    "# Initialize Y_adjusted as a copy of 'yes'\n",
    "data['OS_sum'] = 0\n",
    "\n",
    "# Adjust Y for each browser type\n",
    "for col in os_dummy.columns:\n",
    "    mean_x = data[col].mean()\n",
    "    data['OS_sum'] += theta[col] * (data[col] - mean_x)\n",
    "\n",
    "data['Y_adjusted_OS'] = data['yes'] - data['OS_sum']\n",
    "\n",
    "var_cuped = data['Y_adjusted_OS'].var()\n",
    "print('Adjusted variance: ', var_cuped)\n",
    "\n",
    "correlation = data['yes'].corr(data['OS_sum'])\n",
    "print(f\"The correlation coefficient is: {correlation}\")\n",
    "\n",
    "min_size = 2*(za+zb)**2 * var_cuped / delta**2\n",
    "print('Adjusted Minimal sample size: ', min_size)"
   ]
  },
  {
   "cell_type": "markdown",
   "metadata": {},
   "source": [
    "## Now we choose yes_aa as covariate"
   ]
  },
  {
   "cell_type": "code",
   "execution_count": 12,
   "metadata": {},
   "outputs": [
    {
     "name": "stdout",
     "output_type": "stream",
     "text": [
      "0.024506647661871127\n",
      "0.9544671028333578\n",
      "Adjusted variance:  0.04242338650656295\n",
      "The correlation coefficient is: 0.596136046685392\n",
      "Minimal sample size:  4592.040262998092\n"
     ]
    }
   ],
   "source": [
    "cov_y_x = np.cov(data['yes'], data['yes_aa'])[0, 1]  # Covariance between data['yes'] and X_i\n",
    "var_x = np.var(data['yes_aa'])  # Variance of X_i\n",
    "\n",
    "# Initialize Y_adjusted as a copy of 'yes'\n",
    "data['Y_adjusted2'] = data['yes']\n",
    "theta = cov_y_x / var_x if var_x != 0 else 0\n",
    "\n",
    "mean_x = data['yes_aa'].mean()\n",
    "data['Y_adjusted2'] -= theta * (data['yes_aa'] - mean_x)\n",
    "\n",
    "print(cov_y_x)\n",
    "print(theta)\n",
    "\n",
    "var_cuped = data['Y_adjusted2'].var()\n",
    "print('Adjusted variance: ', var_cuped)\n",
    "\n",
    "correlation = data['yes'].corr(data['yes_aa'])\n",
    "print(f\"The correlation coefficient is: {correlation}\")\n",
    "\n",
    "min_size = 2*(za+zb)**2 * var_cuped / delta**2\n",
    "print('Minimal sample size: ', min_size)"
   ]
  },
  {
   "cell_type": "markdown",
   "metadata": {},
   "source": [
    "# Drawing figures to illustrate CUPED"
   ]
  },
  {
   "cell_type": "code",
   "execution_count": 13,
   "metadata": {},
   "outputs": [
    {
     "data": {
      "image/png": "[encoded data removed]",
      "text/plain": [
       "<Figure size 1200x500 with 2 Axes>"
      ]
     },
     "metadata": {},
     "output_type": "display_data"
    }
   ],
   "source": [
    "# Simulated \"yes\" data for control and treatment groups before CUPED\n",
    "control_yes = np.random.normal(loc=p1, scale=var1, size=1000)\n",
    "treatment_yes = np.random.normal(loc=p2, scale=var2, size=1000)\n",
    "\n",
    "var1_cuped = data[data['experiment']=='control']['Y_adjusted2'].var()\n",
    "var2_cuped = data[data['experiment']=='exposed']['Y_adjusted2'].var()\n",
    "\n",
    "# Simulated \"Y_adjusted\" data for control and treatment groups after CUPED\n",
    "control_adjusted = np.random.normal(loc=p1, scale=var1_cuped, size=1000)\n",
    "treatment_adjusted = np.random.normal(loc=p2, scale=var2_cuped, size=1000)\n",
    "\n",
    "x_min = min(control_yes.min(), treatment_yes.min(), control_adjusted.min(), treatment_adjusted.min())\n",
    "x_max = max(control_yes.max(), treatment_yes.max(), control_adjusted.max(), treatment_adjusted.max())\n",
    "bins = np.linspace(x_min, x_max, 30)\n",
    "\n",
    "# Plot distributions before CUPED\n",
    "plt.figure(figsize=(12, 5))\n",
    "\n",
    "# Before CUPED\n",
    "plt.subplot(1, 2, 1)\n",
    "plt.hist(control_yes, bins=30, alpha=0.5, label=\"Control\", color=\"gray\", density=True)\n",
    "plt.hist(treatment_yes, bins=30, alpha=0.5, label=\"Variant\", color=\"green\", density=True)\n",
    "plt.title(\"Group Mean Distributions Before CUPED\")\n",
    "plt.xlabel(\"Values\")\n",
    "plt.ylabel(\"Density\")\n",
    "plt.legend()\n",
    "plt.xlim(x_min, x_max)\n",
    "\n",
    "# After CUPED\n",
    "plt.subplot(1, 2, 2)\n",
    "plt.hist(control_adjusted, bins=30, alpha=0.5, label=\"Control\", color=\"gray\", density=True)\n",
    "plt.hist(treatment_adjusted, bins=30, alpha=0.5, label=\"Variant\", color=\"green\", density=True)\n",
    "plt.title(\"Group Mean Distributions After CUPED\")\n",
    "plt.xlabel(\"Values\")\n",
    "plt.ylabel(\"Density\")\n",
    "plt.legend()\n",
    "plt.xlim(x_min, x_max)\n",
    "\n",
    "plt.tight_layout()\n",
    "plt.show()\n"
   ]
  },
  {
   "cell_type": "markdown",
   "metadata": {},
   "source": [
    "## Sequential Test mSPRT"
   ]
  },
  {
   "cell_type": "code",
   "execution_count": 14,
   "metadata": {},
   "outputs": [
    {
     "data": {
      "image/png": "[encoded data removed]",
      "text/plain": [
       "<Figure size 640x480 with 1 Axes>"
      ]
     },
     "metadata": {},
     "output_type": "display_data"
    }
   ],
   "source": [
    "from msprt import msprt\n",
    "\n",
    "y_cuped_treatment = data[data['experiment']=='exposed']['Y_adjusted2']\n",
    "y_cuped_control = data[data['experiment']=='control']['Y_adjusted2']\n",
    "\n",
    "# n = min(len(y_cuped_treatment), len(y_cuped_control))\n",
    "n=200\n",
    "y_cuped_control = y_cuped_control[:n]\n",
    "y_cuped_treatment = y_cuped_treatment[:n]\n",
    "\n",
    "result = msprt(x=y_cuped_treatment, y=y_cuped_control, sigma=var0)\n",
    "result.plot()"
   ]
  },
  {
   "cell_type": "code",
   "execution_count": 15,
   "metadata": {},
   "outputs": [
    {
     "data": {
      "image/png": "[encoded data removed]",
      "text/plain": [
       "<Figure size 640x480 with 1 Axes>"
      ]
     },
     "metadata": {},
     "output_type": "display_data"
    }
   ],
   "source": [
    "# control_group = data[data['experiment']=='control']['yes']\n",
    "# experimental_group = data[data['experiment']=='exposed']['yes']\n",
    "n = min(len(y_cuped_treatment), len(y_cuped_control))\n",
    "y0_c = control_group[:n]\n",
    "y0_t = experimental_group[:n]\n",
    "\n",
    "result = msprt(x=y0_c, y=y0_t, sigma=var0)\n",
    "result.plot()"
   ]
  },
  {
   "cell_type": "markdown",
   "metadata": {},
   "source": [
    "## PSM (to reweight features)\n",
    "\n",
    "Actually I don't wanna do this.... What about let's generate AA test data with necessary associations."
   ]
  },
  {
   "cell_type": "code",
   "execution_count": 16,
   "metadata": {},
   "outputs": [
    {
     "ename": "KeyError",
     "evalue": "\"['auction_id', 'experiment', 'date', 'yes'] not found in axis\"",
     "output_type": "error",
     "traceback": [
      "\u001b[1;31m---------------------------------------------------------------------------\u001b[0m",
      "\u001b[1;31mKeyError\u001b[0m                                  Traceback (most recent call last)",
      "Cell \u001b[1;32mIn[16], line 8\u001b[0m\n\u001b[0;32m      4\u001b[0m \u001b[38;5;28;01mfrom\u001b[39;00m \u001b[38;5;21;01msklearn\u001b[39;00m\u001b[38;5;21;01m.\u001b[39;00m\u001b[38;5;21;01mneighbors\u001b[39;00m \u001b[38;5;28;01mimport\u001b[39;00m NearestNeighbors\n\u001b[0;32m      6\u001b[0m data_encoded \u001b[38;5;241m=\u001b[39m pd\u001b[38;5;241m.\u001b[39mget_dummies(data[\u001b[38;5;124m'\u001b[39m\u001b[38;5;124mdevice_make\u001b[39m\u001b[38;5;124m'\u001b[39m], columns\u001b[38;5;241m=\u001b[39m[\u001b[38;5;124m'\u001b[39m\u001b[38;5;124mdevice_make\u001b[39m\u001b[38;5;124m'\u001b[39m], drop_first\u001b[38;5;241m=\u001b[39m\u001b[38;5;28;01mTrue\u001b[39;00m)\n\u001b[1;32m----> 8\u001b[0m X \u001b[38;5;241m=\u001b[39m \u001b[43mdata_encoded\u001b[49m\u001b[38;5;241;43m.\u001b[39;49m\u001b[43mdrop\u001b[49m\u001b[43m(\u001b[49m\u001b[43mcolumns\u001b[49m\u001b[38;5;241;43m=\u001b[39;49m\u001b[43m[\u001b[49m\u001b[38;5;124;43m'\u001b[39;49m\u001b[38;5;124;43mauction_id\u001b[39;49m\u001b[38;5;124;43m'\u001b[39;49m\u001b[43m,\u001b[49m\u001b[43m \u001b[49m\u001b[38;5;124;43m'\u001b[39;49m\u001b[38;5;124;43mexperiment\u001b[39;49m\u001b[38;5;124;43m'\u001b[39;49m\u001b[43m,\u001b[49m\u001b[43m \u001b[49m\u001b[38;5;124;43m'\u001b[39;49m\u001b[38;5;124;43mdate\u001b[39;49m\u001b[38;5;124;43m'\u001b[39;49m\u001b[43m,\u001b[49m\u001b[43m  \u001b[49m\u001b[38;5;124;43m'\u001b[39;49m\u001b[38;5;124;43myes\u001b[39;49m\u001b[38;5;124;43m'\u001b[39;49m\u001b[43m]\u001b[49m\u001b[43m)\u001b[49m  \u001b[38;5;66;03m# Exclude experiment and target variable\u001b[39;00m\n\u001b[0;32m      9\u001b[0m y \u001b[38;5;241m=\u001b[39m data_encoded[\u001b[38;5;124m'\u001b[39m\u001b[38;5;124mexperiment\u001b[39m\u001b[38;5;124m'\u001b[39m]\n\u001b[0;32m     11\u001b[0m \u001b[38;5;66;03m# Logistic regression for propensity score estimation\u001b[39;00m\n",
      "File \u001b[1;32m~\\AppData\\Roaming\\Python\\Python311\\site-packages\\pandas\\core\\frame.py:5344\u001b[0m, in \u001b[0;36mDataFrame.drop\u001b[1;34m(self, labels, axis, index, columns, level, inplace, errors)\u001b[0m\n\u001b[0;32m   5196\u001b[0m \u001b[38;5;28;01mdef\u001b[39;00m \u001b[38;5;21mdrop\u001b[39m(\n\u001b[0;32m   5197\u001b[0m     \u001b[38;5;28mself\u001b[39m,\n\u001b[0;32m   5198\u001b[0m     labels: IndexLabel \u001b[38;5;241m|\u001b[39m \u001b[38;5;28;01mNone\u001b[39;00m \u001b[38;5;241m=\u001b[39m \u001b[38;5;28;01mNone\u001b[39;00m,\n\u001b[1;32m   (...)\u001b[0m\n\u001b[0;32m   5205\u001b[0m     errors: IgnoreRaise \u001b[38;5;241m=\u001b[39m \u001b[38;5;124m\"\u001b[39m\u001b[38;5;124mraise\u001b[39m\u001b[38;5;124m\"\u001b[39m,\n\u001b[0;32m   5206\u001b[0m ) \u001b[38;5;241m-\u001b[39m\u001b[38;5;241m>\u001b[39m DataFrame \u001b[38;5;241m|\u001b[39m \u001b[38;5;28;01mNone\u001b[39;00m:\n\u001b[0;32m   5207\u001b[0m \u001b[38;5;250m    \u001b[39m\u001b[38;5;124;03m\"\"\"\u001b[39;00m\n\u001b[0;32m   5208\u001b[0m \u001b[38;5;124;03m    Drop specified labels from rows or columns.\u001b[39;00m\n\u001b[0;32m   5209\u001b[0m \n\u001b[1;32m   (...)\u001b[0m\n\u001b[0;32m   5342\u001b[0m \u001b[38;5;124;03m            weight  1.0     0.8\u001b[39;00m\n\u001b[0;32m   5343\u001b[0m \u001b[38;5;124;03m    \"\"\"\u001b[39;00m\n\u001b[1;32m-> 5344\u001b[0m     \u001b[38;5;28;01mreturn\u001b[39;00m \u001b[38;5;28;43msuper\u001b[39;49m\u001b[43m(\u001b[49m\u001b[43m)\u001b[49m\u001b[38;5;241;43m.\u001b[39;49m\u001b[43mdrop\u001b[49m\u001b[43m(\u001b[49m\n\u001b[0;32m   5345\u001b[0m \u001b[43m        \u001b[49m\u001b[43mlabels\u001b[49m\u001b[38;5;241;43m=\u001b[39;49m\u001b[43mlabels\u001b[49m\u001b[43m,\u001b[49m\n\u001b[0;32m   5346\u001b[0m \u001b[43m        \u001b[49m\u001b[43maxis\u001b[49m\u001b[38;5;241;43m=\u001b[39;49m\u001b[43maxis\u001b[49m\u001b[43m,\u001b[49m\n\u001b[0;32m   5347\u001b[0m \u001b[43m        \u001b[49m\u001b[43mindex\u001b[49m\u001b[38;5;241;43m=\u001b[39;49m\u001b[43mindex\u001b[49m\u001b[43m,\u001b[49m\n\u001b[0;32m   5348\u001b[0m \u001b[43m        \u001b[49m\u001b[43mcolumns\u001b[49m\u001b[38;5;241;43m=\u001b[39;49m\u001b[43mcolumns\u001b[49m\u001b[43m,\u001b[49m\n\u001b[0;32m   5349\u001b[0m \u001b[43m        \u001b[49m\u001b[43mlevel\u001b[49m\u001b[38;5;241;43m=\u001b[39;49m\u001b[43mlevel\u001b[49m\u001b[43m,\u001b[49m\n\u001b[0;32m   5350\u001b[0m \u001b[43m        \u001b[49m\u001b[43minplace\u001b[49m\u001b[38;5;241;43m=\u001b[39;49m\u001b[43minplace\u001b[49m\u001b[43m,\u001b[49m\n\u001b[0;32m   5351\u001b[0m \u001b[43m        \u001b[49m\u001b[43merrors\u001b[49m\u001b[38;5;241;43m=\u001b[39;49m\u001b[43merrors\u001b[49m\u001b[43m,\u001b[49m\n\u001b[0;32m   5352\u001b[0m \u001b[43m    \u001b[49m\u001b[43m)\u001b[49m\n",
      "File \u001b[1;32m~\\AppData\\Roaming\\Python\\Python311\\site-packages\\pandas\\core\\generic.py:4711\u001b[0m, in \u001b[0;36mNDFrame.drop\u001b[1;34m(self, labels, axis, index, columns, level, inplace, errors)\u001b[0m\n\u001b[0;32m   4709\u001b[0m \u001b[38;5;28;01mfor\u001b[39;00m axis, labels \u001b[38;5;129;01min\u001b[39;00m axes\u001b[38;5;241m.\u001b[39mitems():\n\u001b[0;32m   4710\u001b[0m     \u001b[38;5;28;01mif\u001b[39;00m labels \u001b[38;5;129;01mis\u001b[39;00m \u001b[38;5;129;01mnot\u001b[39;00m \u001b[38;5;28;01mNone\u001b[39;00m:\n\u001b[1;32m-> 4711\u001b[0m         obj \u001b[38;5;241m=\u001b[39m \u001b[43mobj\u001b[49m\u001b[38;5;241;43m.\u001b[39;49m\u001b[43m_drop_axis\u001b[49m\u001b[43m(\u001b[49m\u001b[43mlabels\u001b[49m\u001b[43m,\u001b[49m\u001b[43m \u001b[49m\u001b[43maxis\u001b[49m\u001b[43m,\u001b[49m\u001b[43m \u001b[49m\u001b[43mlevel\u001b[49m\u001b[38;5;241;43m=\u001b[39;49m\u001b[43mlevel\u001b[49m\u001b[43m,\u001b[49m\u001b[43m \u001b[49m\u001b[43merrors\u001b[49m\u001b[38;5;241;43m=\u001b[39;49m\u001b[43merrors\u001b[49m\u001b[43m)\u001b[49m\n\u001b[0;32m   4713\u001b[0m \u001b[38;5;28;01mif\u001b[39;00m inplace:\n\u001b[0;32m   4714\u001b[0m     \u001b[38;5;28mself\u001b[39m\u001b[38;5;241m.\u001b[39m_update_inplace(obj)\n",
      "File \u001b[1;32m~\\AppData\\Roaming\\Python\\Python311\\site-packages\\pandas\\core\\generic.py:4753\u001b[0m, in \u001b[0;36mNDFrame._drop_axis\u001b[1;34m(self, labels, axis, level, errors, only_slice)\u001b[0m\n\u001b[0;32m   4751\u001b[0m         new_axis \u001b[38;5;241m=\u001b[39m axis\u001b[38;5;241m.\u001b[39mdrop(labels, level\u001b[38;5;241m=\u001b[39mlevel, errors\u001b[38;5;241m=\u001b[39merrors)\n\u001b[0;32m   4752\u001b[0m     \u001b[38;5;28;01melse\u001b[39;00m:\n\u001b[1;32m-> 4753\u001b[0m         new_axis \u001b[38;5;241m=\u001b[39m \u001b[43maxis\u001b[49m\u001b[38;5;241;43m.\u001b[39;49m\u001b[43mdrop\u001b[49m\u001b[43m(\u001b[49m\u001b[43mlabels\u001b[49m\u001b[43m,\u001b[49m\u001b[43m \u001b[49m\u001b[43merrors\u001b[49m\u001b[38;5;241;43m=\u001b[39;49m\u001b[43merrors\u001b[49m\u001b[43m)\u001b[49m\n\u001b[0;32m   4754\u001b[0m     indexer \u001b[38;5;241m=\u001b[39m axis\u001b[38;5;241m.\u001b[39mget_indexer(new_axis)\n\u001b[0;32m   4756\u001b[0m \u001b[38;5;66;03m# Case for non-unique axis\u001b[39;00m\n\u001b[0;32m   4757\u001b[0m \u001b[38;5;28;01melse\u001b[39;00m:\n",
      "File \u001b[1;32m~\\AppData\\Roaming\\Python\\Python311\\site-packages\\pandas\\core\\indexes\\base.py:7000\u001b[0m, in \u001b[0;36mIndex.drop\u001b[1;34m(self, labels, errors)\u001b[0m\n\u001b[0;32m   6998\u001b[0m \u001b[38;5;28;01mif\u001b[39;00m mask\u001b[38;5;241m.\u001b[39many():\n\u001b[0;32m   6999\u001b[0m     \u001b[38;5;28;01mif\u001b[39;00m errors \u001b[38;5;241m!=\u001b[39m \u001b[38;5;124m\"\u001b[39m\u001b[38;5;124mignore\u001b[39m\u001b[38;5;124m\"\u001b[39m:\n\u001b[1;32m-> 7000\u001b[0m         \u001b[38;5;28;01mraise\u001b[39;00m \u001b[38;5;167;01mKeyError\u001b[39;00m(\u001b[38;5;124mf\u001b[39m\u001b[38;5;124m\"\u001b[39m\u001b[38;5;132;01m{\u001b[39;00mlabels[mask]\u001b[38;5;241m.\u001b[39mtolist()\u001b[38;5;132;01m}\u001b[39;00m\u001b[38;5;124m not found in axis\u001b[39m\u001b[38;5;124m\"\u001b[39m)\n\u001b[0;32m   7001\u001b[0m     indexer \u001b[38;5;241m=\u001b[39m indexer[\u001b[38;5;241m~\u001b[39mmask]\n\u001b[0;32m   7002\u001b[0m \u001b[38;5;28;01mreturn\u001b[39;00m \u001b[38;5;28mself\u001b[39m\u001b[38;5;241m.\u001b[39mdelete(indexer)\n",
      "\u001b[1;31mKeyError\u001b[0m: \"['auction_id', 'experiment', 'date', 'yes'] not found in axis\""
     ]
    }
   ],
   "source": [
    "import pandas as pd\n",
    "import numpy as np\n",
    "from sklearn.linear_model import LogisticRegression\n",
    "from sklearn.neighbors import NearestNeighbors\n",
    "\n",
    "data_encoded = pd.get_dummies(data['device_make'], columns=['device_make'], drop_first=True)\n",
    "\n",
    "X = data_encoded.drop(columns=['auction_id', 'experiment', 'date',  'yes'])  # Exclude experiment and target variable\n",
    "y = data_encoded['experiment']\n",
    "\n",
    "# Logistic regression for propensity score estimation\n",
    "logistic = LogisticRegression(solver='liblinear')\n",
    "logistic.fit(X, y)\n",
    "data_encoded['propensity_score'] = logistic.predict_proba(X)[:, 1]  # Propensity scores\n",
    "\n",
    "# Step 3: Matching\n",
    "# Split the data into treatment and control groups\n",
    "treated = data_encoded[data_encoded['experiment'] == 1]\n",
    "control = data_encoded[data_encoded['experiment'] == 0]\n",
    "\n",
    "# Use Nearest Neighbors to match control units to treated units based on propensity score\n",
    "nn = NearestNeighbors(n_neighbors=1, algorithm='ball_tree').fit(control[['propensity_score']])\n",
    "distances, indices = nn.kneighbors(treated[['propensity_score']])\n",
    "\n",
    "# Get matched control indices\n",
    "control_matched = control.iloc[indices.flatten()].reset_index(drop=True)\n",
    "treated_matched = treated.reset_index(drop=True)\n",
    "\n",
    "# Step 4: Combine matched samples\n",
    "matched_data = pd.concat([treated_matched, control_matched])\n",
    "matched_data"
   ]
  }
 ],
 "metadata": {
  "kernelspec": {
   "display_name": "Python 3",
   "language": "python",
   "name": "python3"
  },
  "language_info": {
   "codemirror_mode": {
    "name": "ipython",
    "version": 3
   },
   "file_extension": ".py",
   "mimetype": "text/x-python",
   "name": "python",
   "nbconvert_exporter": "python",
   "pygments_lexer": "ipython3",
   "version": "3.11.4"
  }
 },
 "nbformat": 4,
 "nbformat_minor": 2
}
